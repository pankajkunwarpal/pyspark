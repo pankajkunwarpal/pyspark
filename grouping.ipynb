{
 "cells": [
  {
   "cell_type": "markdown",
   "metadata": {},
   "source": [
    "### DataFrame Joining and Grouping"
   ]
  },
  {
   "cell_type": "code",
   "execution_count": 2,
   "metadata": {},
   "outputs": [],
   "source": [
    "from pyspark.sql import SparkSession\n",
    "import pyspark.sql.functions as F"
   ]
  },
  {
   "cell_type": "code",
   "execution_count": 3,
   "metadata": {},
   "outputs": [],
   "source": [
    "import pandas as pd\n",
    "import numpy as np"
   ]
  },
  {
   "cell_type": "code",
   "execution_count": 4,
   "metadata": {},
   "outputs": [],
   "source": [
    "spark = SparkSession.builder.appName('Joining and Grouping').getOrCreate()"
   ]
  },
  {
   "cell_type": "code",
   "execution_count": 5,
   "metadata": {},
   "outputs": [],
   "source": [
    "logs = (\n",
    "    spark.read.csv('./DataAnalysisPythonPySpark/data/data/broadcast_logs/ReferenceTables/LogIdentifier.csv',\n",
    "    sep=\"|\", header=True, inferSchema=True)\n",
    "    .where(F.col(\"PrimaryFG\")==1)    \n",
    ")"
   ]
  },
  {
   "cell_type": "code",
   "execution_count": 6,
   "metadata": {},
   "outputs": [
    {
     "name": "stdout",
     "output_type": "stream",
     "text": [
      "root\n",
      " |-- LogIdentifierID: string (nullable = true)\n",
      " |-- LogServiceID: integer (nullable = true)\n",
      " |-- PrimaryFG: integer (nullable = true)\n",
      "\n",
      "Number of Records:  758\n"
     ]
    }
   ],
   "source": [
    "# printing schema of logs DF\n",
    "logs.printSchema()\n",
    "\n",
    "# Count the records where \n",
    "# primaryFG is 1\n",
    "print(\"Number of Records: \", logs.count())"
   ]
  },
  {
   "cell_type": "code",
   "execution_count": 14,
   "metadata": {},
   "outputs": [
    {
     "name": "stdout",
     "output_type": "stream",
     "text": [
      "+------------+\n",
      "|LogServiceID|\n",
      "+------------+\n",
      "|        3157|\n",
      "|        3157|\n",
      "|        3157|\n",
      "|        3157|\n",
      "|        3157|\n",
      "+------------+\n",
      "only showing top 5 rows\n",
      "\n"
     ]
    }
   ],
   "source": [
    "csvlogs = (\n",
    "    spark.read.csv('./DataAnalysisPythonPySpark/data/data/broadcast_logs/BroadcastLogs_2018_Q3_M8_sample.csv', sep='|',\n",
    "    header=True, inferSchema=True, timestampFormat='yyyy-MM-dd')\n",
    "    .drop(*['BroadCastLogID', 'SequenceNo'])\n",
    "    .select(\n",
    "        F.col(\"*\"),\n",
    "        F.col(\"Duration\").substr(1,2).cast(\"int\").alias(\"dur_hours\"),\n",
    "        F.col(\"Duration\").substr(4,2).cast(\"int\").alias(\"dur_minutes\"),\n",
    "        F.col(\"Duration\").substr(7,2).cast(\"int\").alias(\"dur_seconds\"),\n",
    "    ).distinct()\n",
    ")\n",
    "\n",
    "csvlogs.select(F.col('LogServiceID')).show(5)"
   ]
  },
  {
   "cell_type": "code",
   "execution_count": 39,
   "metadata": {},
   "outputs": [
    {
     "ename": "AnalysisException",
     "evalue": "Column 'ProgramClassCD' does not exist. Did you mean one of the following? [ProgramClassID, ProgramTitle, PrimaryFG, DubDramaCreditID, LogDate, LogServiceID, Producer1, Producer2, ProductionNO, CategoryID, CompositionID, Duration, EthnicProgramID, Language1, Language2, LogEntryDate, dur_hours, dur_minutes, ClosedCaptionID, EndTime, ExhibitionID, LogIdentifierID, StartTime, Subtitle, dur_seconds, ProductionSourceID, CountryOfOriginID, FilmClassificationID, NetworkAffiliationID, SpecialAttentionID, AudienceTargetAgeID, BroadcastOriginPointID, AudienceTargetEthnicID];\n'Project ['ProgramClassCD, LogServiceID#527, Subtitle#547, Language1#554, LogIdentifierID#17, PrimaryFG#19, dur_seconds#617]\n+- Project [LogServiceID#527, LogDate#528, AudienceTargetAgeID#530, AudienceTargetEthnicID#531, CategoryID#532, ClosedCaptionID#533, CountryOfOriginID#534, DubDramaCreditID#535, EthnicProgramID#536, ProductionSourceID#537, ProgramClassID#538, FilmClassificationID#539, ExhibitionID#540, Duration#541, EndTime#542, LogEntryDate#543, ProductionNO#544, ProgramTitle#545, StartTime#546, Subtitle#547, NetworkAffiliationID#548, SpecialAttentionID#549, BroadcastOriginPointID#550, CompositionID#551, ... 9 more fields]\n   +- Join Inner, (LogServiceID#527 = LogServiceID#18)\n      :- Deduplicate [NetworkAffiliationID#548, SpecialAttentionID#549, ProgramClassID#538, Producer2#553, Duration#541, ClosedCaptionID#533, CategoryID#532, EthnicProgramID#536, ProductionNO#544, CompositionID#551, Subtitle#547, LogEntryDate#543, StartTime#546, EndTime#542, LogDate#528, ExhibitionID#540, AudienceTargetEthnicID#531, Language1#554, dur_minutes#616, ProductionSourceID#537, CountryOfOriginID#534, dur_hours#615, ProgramTitle#545, BroadcastOriginPointID#550, ... 7 more fields]\n      :  +- Project [LogServiceID#527, LogDate#528, AudienceTargetAgeID#530, AudienceTargetEthnicID#531, CategoryID#532, ClosedCaptionID#533, CountryOfOriginID#534, DubDramaCreditID#535, EthnicProgramID#536, ProductionSourceID#537, ProgramClassID#538, FilmClassificationID#539, ExhibitionID#540, Duration#541, EndTime#542, LogEntryDate#543, ProductionNO#544, ProgramTitle#545, StartTime#546, Subtitle#547, NetworkAffiliationID#548, SpecialAttentionID#549, BroadcastOriginPointID#550, CompositionID#551, ... 7 more fields]\n      :     +- Project [LogServiceID#527, LogDate#528, AudienceTargetAgeID#530, AudienceTargetEthnicID#531, CategoryID#532, ClosedCaptionID#533, CountryOfOriginID#534, DubDramaCreditID#535, EthnicProgramID#536, ProductionSourceID#537, ProgramClassID#538, FilmClassificationID#539, ExhibitionID#540, Duration#541, EndTime#542, LogEntryDate#543, ProductionNO#544, ProgramTitle#545, StartTime#546, Subtitle#547, NetworkAffiliationID#548, SpecialAttentionID#549, BroadcastOriginPointID#550, CompositionID#551, ... 4 more fields]\n      :        +- Relation [BroadcastLogID#526,LogServiceID#527,LogDate#528,SequenceNO#529,AudienceTargetAgeID#530,AudienceTargetEthnicID#531,CategoryID#532,ClosedCaptionID#533,CountryOfOriginID#534,DubDramaCreditID#535,EthnicProgramID#536,ProductionSourceID#537,ProgramClassID#538,FilmClassificationID#539,ExhibitionID#540,Duration#541,EndTime#542,LogEntryDate#543,ProductionNO#544,ProgramTitle#545,StartTime#546,Subtitle#547,NetworkAffiliationID#548,SpecialAttentionID#549,... 6 more fields] csv\n      +- Filter (PrimaryFG#19 = 1)\n         +- Relation [LogIdentifierID#17,LogServiceID#18,PrimaryFG#19] csv\n",
     "output_type": "error",
     "traceback": [
      "\u001b[1;31m---------------------------------------------------------------------------\u001b[0m",
      "\u001b[1;31mAnalysisException\u001b[0m                         Traceback (most recent call last)",
      "Cell \u001b[1;32mIn [39], line 7\u001b[0m\n\u001b[0;32m      1\u001b[0m \u001b[38;5;66;03m# use of join method.\u001b[39;00m\n\u001b[0;32m      2\u001b[0m full_log\u001b[38;5;241m=\u001b[39m(\n\u001b[0;32m      3\u001b[0m     \u001b[43mcsvlogs\u001b[49m\u001b[38;5;241;43m.\u001b[39;49m\u001b[43mjoin\u001b[49m\u001b[43m(\u001b[49m\n\u001b[0;32m      4\u001b[0m \u001b[43m        \u001b[49m\u001b[43mlogs\u001b[49m\u001b[43m,\u001b[49m\n\u001b[0;32m      5\u001b[0m \u001b[43m        \u001b[49m\u001b[43mon\u001b[49m\u001b[38;5;241;43m=\u001b[39;49m\u001b[38;5;124;43m'\u001b[39;49m\u001b[38;5;124;43mLogServiceID\u001b[39;49m\u001b[38;5;124;43m'\u001b[39;49m\u001b[43m,\u001b[49m\n\u001b[0;32m      6\u001b[0m \u001b[43m        \u001b[49m\u001b[43mhow\u001b[49m\u001b[38;5;241;43m=\u001b[39;49m\u001b[38;5;124;43m'\u001b[39;49m\u001b[38;5;124;43minner\u001b[39;49m\u001b[38;5;124;43m'\u001b[39;49m\n\u001b[1;32m----> 7\u001b[0m \u001b[43m    \u001b[49m\u001b[43m)\u001b[49m\u001b[38;5;241;43m.\u001b[39;49m\u001b[43mselect\u001b[49m\u001b[43m(\u001b[49m\n\u001b[0;32m      8\u001b[0m \u001b[43m        \u001b[49m\u001b[43mF\u001b[49m\u001b[38;5;241;43m.\u001b[39;49m\u001b[43mcol\u001b[49m\u001b[43m(\u001b[49m\u001b[38;5;124;43m'\u001b[39;49m\u001b[38;5;124;43mProgramClassCD\u001b[39;49m\u001b[38;5;124;43m'\u001b[39;49m\u001b[43m)\u001b[49m\u001b[43m,\u001b[49m\n\u001b[0;32m      9\u001b[0m \u001b[43m        \u001b[49m\u001b[43mF\u001b[49m\u001b[38;5;241;43m.\u001b[39;49m\u001b[43mcol\u001b[49m\u001b[43m(\u001b[49m\u001b[38;5;124;43m'\u001b[39;49m\u001b[38;5;124;43mLogServiceID\u001b[39;49m\u001b[38;5;124;43m'\u001b[39;49m\u001b[43m)\u001b[49m\n\u001b[0;32m     10\u001b[0m \u001b[43m        \u001b[49m\u001b[43m,\u001b[49m\u001b[43mF\u001b[49m\u001b[38;5;241;43m.\u001b[39;49m\u001b[43mcol\u001b[49m\u001b[43m(\u001b[49m\u001b[38;5;124;43m'\u001b[39;49m\u001b[38;5;124;43mSubtitle\u001b[39;49m\u001b[38;5;124;43m'\u001b[39;49m\u001b[43m)\u001b[49m\n\u001b[0;32m     11\u001b[0m \u001b[43m        \u001b[49m\u001b[43m,\u001b[49m\u001b[43mF\u001b[49m\u001b[38;5;241;43m.\u001b[39;49m\u001b[43mcol\u001b[49m\u001b[43m(\u001b[49m\u001b[38;5;124;43m'\u001b[39;49m\u001b[38;5;124;43mLanguage1\u001b[39;49m\u001b[38;5;124;43m'\u001b[39;49m\u001b[43m)\u001b[49m\n\u001b[0;32m     12\u001b[0m \u001b[43m        \u001b[49m\u001b[43m,\u001b[49m\u001b[43mF\u001b[49m\u001b[38;5;241;43m.\u001b[39;49m\u001b[43mcol\u001b[49m\u001b[43m(\u001b[49m\u001b[38;5;124;43m'\u001b[39;49m\u001b[38;5;124;43mLogIdentifierID\u001b[39;49m\u001b[38;5;124;43m'\u001b[39;49m\u001b[43m)\u001b[49m\n\u001b[0;32m     13\u001b[0m \u001b[43m        \u001b[49m\u001b[43m,\u001b[49m\u001b[43mF\u001b[49m\u001b[38;5;241;43m.\u001b[39;49m\u001b[43mcol\u001b[49m\u001b[43m(\u001b[49m\u001b[38;5;124;43m'\u001b[39;49m\u001b[38;5;124;43mPrimaryFG\u001b[39;49m\u001b[38;5;124;43m'\u001b[39;49m\u001b[43m)\u001b[49m\u001b[43m,\u001b[49m\n\u001b[0;32m     14\u001b[0m \u001b[43m        \u001b[49m\u001b[43mF\u001b[49m\u001b[38;5;241;43m.\u001b[39;49m\u001b[43mcol\u001b[49m\u001b[43m(\u001b[49m\u001b[38;5;124;43m'\u001b[39;49m\u001b[38;5;124;43mdur_seconds\u001b[39;49m\u001b[38;5;124;43m'\u001b[39;49m\u001b[43m)\u001b[49m\n\u001b[0;32m     15\u001b[0m \u001b[43m    \u001b[49m\u001b[43m)\u001b[49m\n\u001b[0;32m     16\u001b[0m )\n\u001b[0;32m     18\u001b[0m full_log\u001b[38;5;241m.\u001b[39mselect(\u001b[38;5;124m'\u001b[39m\u001b[38;5;124m*\u001b[39m\u001b[38;5;124m'\u001b[39m)\u001b[38;5;241m.\u001b[39mwhere(F\u001b[38;5;241m.\u001b[39mcol(\u001b[38;5;124m'\u001b[39m\u001b[38;5;124mSubtitle\u001b[39m\u001b[38;5;124m'\u001b[39m) \u001b[38;5;241m!=\u001b[39m \u001b[38;5;124m'\u001b[39m\u001b[38;5;124mnull\u001b[39m\u001b[38;5;124m'\u001b[39m)\u001b[38;5;241m.\u001b[39morderBy(\u001b[38;5;124m'\u001b[39m\u001b[38;5;124mSubtitle\u001b[39m\u001b[38;5;124m'\u001b[39m, ascending\u001b[38;5;241m=\u001b[39m\u001b[38;5;28;01mFalse\u001b[39;00m)\u001b[38;5;241m.\u001b[39mshow(\u001b[38;5;241m5\u001b[39m)\n",
      "File \u001b[1;32mc:\\Users\\enpamuk\\Desktop\\files\\py_notebook\\notenv\\lib\\site-packages\\pyspark\\sql\\dataframe.py:2023\u001b[0m, in \u001b[0;36mDataFrame.select\u001b[1;34m(self, *cols)\u001b[0m\n\u001b[0;32m   2002\u001b[0m \u001b[39mdef\u001b[39;00m \u001b[39mselect\u001b[39m(\u001b[39mself\u001b[39m, \u001b[39m*\u001b[39mcols: \u001b[39m\"\u001b[39m\u001b[39mColumnOrName\u001b[39m\u001b[39m\"\u001b[39m) \u001b[39m-\u001b[39m\u001b[39m>\u001b[39m \u001b[39m\"\u001b[39m\u001b[39mDataFrame\u001b[39m\u001b[39m\"\u001b[39m:  \u001b[39m# type: ignore[misc]\u001b[39;00m\n\u001b[0;32m   2003\u001b[0m     \u001b[39m\"\"\"Projects a set of expressions and returns a new :class:`DataFrame`.\u001b[39;00m\n\u001b[0;32m   2004\u001b[0m \n\u001b[0;32m   2005\u001b[0m \u001b[39m    .. versionadded:: 1.3.0\u001b[39;00m\n\u001b[1;32m   (...)\u001b[0m\n\u001b[0;32m   2021\u001b[0m \u001b[39m    [Row(name='Alice', age=12), Row(name='Bob', age=15)]\u001b[39;00m\n\u001b[0;32m   2022\u001b[0m \u001b[39m    \"\"\"\u001b[39;00m\n\u001b[1;32m-> 2023\u001b[0m     jdf \u001b[39m=\u001b[39m \u001b[39mself\u001b[39;49m\u001b[39m.\u001b[39;49m_jdf\u001b[39m.\u001b[39;49mselect(\u001b[39mself\u001b[39;49m\u001b[39m.\u001b[39;49m_jcols(\u001b[39m*\u001b[39;49mcols))\n\u001b[0;32m   2024\u001b[0m     \u001b[39mreturn\u001b[39;00m DataFrame(jdf, \u001b[39mself\u001b[39m\u001b[39m.\u001b[39msparkSession)\n",
      "File \u001b[1;32mc:\\Users\\enpamuk\\Desktop\\files\\py_notebook\\notenv\\lib\\site-packages\\py4j\\java_gateway.py:1321\u001b[0m, in \u001b[0;36mJavaMember.__call__\u001b[1;34m(self, *args)\u001b[0m\n\u001b[0;32m   1315\u001b[0m command \u001b[39m=\u001b[39m proto\u001b[39m.\u001b[39mCALL_COMMAND_NAME \u001b[39m+\u001b[39m\\\n\u001b[0;32m   1316\u001b[0m     \u001b[39mself\u001b[39m\u001b[39m.\u001b[39mcommand_header \u001b[39m+\u001b[39m\\\n\u001b[0;32m   1317\u001b[0m     args_command \u001b[39m+\u001b[39m\\\n\u001b[0;32m   1318\u001b[0m     proto\u001b[39m.\u001b[39mEND_COMMAND_PART\n\u001b[0;32m   1320\u001b[0m answer \u001b[39m=\u001b[39m \u001b[39mself\u001b[39m\u001b[39m.\u001b[39mgateway_client\u001b[39m.\u001b[39msend_command(command)\n\u001b[1;32m-> 1321\u001b[0m return_value \u001b[39m=\u001b[39m get_return_value(\n\u001b[0;32m   1322\u001b[0m     answer, \u001b[39mself\u001b[39;49m\u001b[39m.\u001b[39;49mgateway_client, \u001b[39mself\u001b[39;49m\u001b[39m.\u001b[39;49mtarget_id, \u001b[39mself\u001b[39;49m\u001b[39m.\u001b[39;49mname)\n\u001b[0;32m   1324\u001b[0m \u001b[39mfor\u001b[39;00m temp_arg \u001b[39min\u001b[39;00m temp_args:\n\u001b[0;32m   1325\u001b[0m     temp_arg\u001b[39m.\u001b[39m_detach()\n",
      "File \u001b[1;32mc:\\Users\\enpamuk\\Desktop\\files\\py_notebook\\notenv\\lib\\site-packages\\pyspark\\sql\\utils.py:196\u001b[0m, in \u001b[0;36mcapture_sql_exception.<locals>.deco\u001b[1;34m(*a, **kw)\u001b[0m\n\u001b[0;32m    192\u001b[0m converted \u001b[39m=\u001b[39m convert_exception(e\u001b[39m.\u001b[39mjava_exception)\n\u001b[0;32m    193\u001b[0m \u001b[39mif\u001b[39;00m \u001b[39mnot\u001b[39;00m \u001b[39misinstance\u001b[39m(converted, UnknownException):\n\u001b[0;32m    194\u001b[0m     \u001b[39m# Hide where the exception came from that shows a non-Pythonic\u001b[39;00m\n\u001b[0;32m    195\u001b[0m     \u001b[39m# JVM exception message.\u001b[39;00m\n\u001b[1;32m--> 196\u001b[0m     \u001b[39mraise\u001b[39;00m converted \u001b[39mfrom\u001b[39;00m \u001b[39mNone\u001b[39m\n\u001b[0;32m    197\u001b[0m \u001b[39melse\u001b[39;00m:\n\u001b[0;32m    198\u001b[0m     \u001b[39mraise\u001b[39;00m\n",
      "\u001b[1;31mAnalysisException\u001b[0m: Column 'ProgramClassCD' does not exist. Did you mean one of the following? [ProgramClassID, ProgramTitle, PrimaryFG, DubDramaCreditID, LogDate, LogServiceID, Producer1, Producer2, ProductionNO, CategoryID, CompositionID, Duration, EthnicProgramID, Language1, Language2, LogEntryDate, dur_hours, dur_minutes, ClosedCaptionID, EndTime, ExhibitionID, LogIdentifierID, StartTime, Subtitle, dur_seconds, ProductionSourceID, CountryOfOriginID, FilmClassificationID, NetworkAffiliationID, SpecialAttentionID, AudienceTargetAgeID, BroadcastOriginPointID, AudienceTargetEthnicID];\n'Project ['ProgramClassCD, LogServiceID#527, Subtitle#547, Language1#554, LogIdentifierID#17, PrimaryFG#19, dur_seconds#617]\n+- Project [LogServiceID#527, LogDate#528, AudienceTargetAgeID#530, AudienceTargetEthnicID#531, CategoryID#532, ClosedCaptionID#533, CountryOfOriginID#534, DubDramaCreditID#535, EthnicProgramID#536, ProductionSourceID#537, ProgramClassID#538, FilmClassificationID#539, ExhibitionID#540, Duration#541, EndTime#542, LogEntryDate#543, ProductionNO#544, ProgramTitle#545, StartTime#546, Subtitle#547, NetworkAffiliationID#548, SpecialAttentionID#549, BroadcastOriginPointID#550, CompositionID#551, ... 9 more fields]\n   +- Join Inner, (LogServiceID#527 = LogServiceID#18)\n      :- Deduplicate [NetworkAffiliationID#548, SpecialAttentionID#549, ProgramClassID#538, Producer2#553, Duration#541, ClosedCaptionID#533, CategoryID#532, EthnicProgramID#536, ProductionNO#544, CompositionID#551, Subtitle#547, LogEntryDate#543, StartTime#546, EndTime#542, LogDate#528, ExhibitionID#540, AudienceTargetEthnicID#531, Language1#554, dur_minutes#616, ProductionSourceID#537, CountryOfOriginID#534, dur_hours#615, ProgramTitle#545, BroadcastOriginPointID#550, ... 7 more fields]\n      :  +- Project [LogServiceID#527, LogDate#528, AudienceTargetAgeID#530, AudienceTargetEthnicID#531, CategoryID#532, ClosedCaptionID#533, CountryOfOriginID#534, DubDramaCreditID#535, EthnicProgramID#536, ProductionSourceID#537, ProgramClassID#538, FilmClassificationID#539, ExhibitionID#540, Duration#541, EndTime#542, LogEntryDate#543, ProductionNO#544, ProgramTitle#545, StartTime#546, Subtitle#547, NetworkAffiliationID#548, SpecialAttentionID#549, BroadcastOriginPointID#550, CompositionID#551, ... 7 more fields]\n      :     +- Project [LogServiceID#527, LogDate#528, AudienceTargetAgeID#530, AudienceTargetEthnicID#531, CategoryID#532, ClosedCaptionID#533, CountryOfOriginID#534, DubDramaCreditID#535, EthnicProgramID#536, ProductionSourceID#537, ProgramClassID#538, FilmClassificationID#539, ExhibitionID#540, Duration#541, EndTime#542, LogEntryDate#543, ProductionNO#544, ProgramTitle#545, StartTime#546, Subtitle#547, NetworkAffiliationID#548, SpecialAttentionID#549, BroadcastOriginPointID#550, CompositionID#551, ... 4 more fields]\n      :        +- Relation [BroadcastLogID#526,LogServiceID#527,LogDate#528,SequenceNO#529,AudienceTargetAgeID#530,AudienceTargetEthnicID#531,CategoryID#532,ClosedCaptionID#533,CountryOfOriginID#534,DubDramaCreditID#535,EthnicProgramID#536,ProductionSourceID#537,ProgramClassID#538,FilmClassificationID#539,ExhibitionID#540,Duration#541,EndTime#542,LogEntryDate#543,ProductionNO#544,ProgramTitle#545,StartTime#546,Subtitle#547,NetworkAffiliationID#548,SpecialAttentionID#549,... 6 more fields] csv\n      +- Filter (PrimaryFG#19 = 1)\n         +- Relation [LogIdentifierID#17,LogServiceID#18,PrimaryFG#19] csv\n"
     ]
    }
   ],
   "source": [
    "# use of join method.\n",
    "full_log=(\n",
    "    csvlogs.join(\n",
    "        logs,\n",
    "        on='LogServiceID',\n",
    "        how='inner'\n",
    "    ).select(\n",
    "        F.col('ProgramClassCD'),\n",
    "        F.col('LogServiceID')\n",
    "        ,F.col('Subtitle')\n",
    "        ,F.col('Language1')\n",
    "        ,F.col('LogIdentifierID')\n",
    "        ,F.col('PrimaryFG'),\n",
    "        F.col('dur_seconds')\n",
    "    )\n",
    ")\n",
    "\n",
    "full_log.select('*').where(F.col('Subtitle') != 'null').orderBy('Subtitle', ascending=False).show(5)\n"
   ]
  },
  {
   "cell_type": "markdown",
   "metadata": {},
   "source": [
    "#### Join cases\n",
    "- inner join\n",
    "- left_outer\n",
    "- right_outer\n",
    "- outer\n",
    "- full\n",
    "- full_outer\n",
    "- left_semi\n",
    "- left_anti\n",
    "- cross"
   ]
  },
  {
   "cell_type": "code",
   "execution_count": 9,
   "metadata": {},
   "outputs": [],
   "source": [
    "cdcat = spark.read.csv('./DataAnalysisPythonPySpark/data/data/broadcast_logs/ReferenceTables/CD_Category.csv',\n",
    "    sep='|', header=True, inferSchema=True\n",
    "    ).select(\n",
    "        \"CategoryID\", \"CategoryCD\", \n",
    "        F.col('EnglishDescription').alias('Category_Description')\n",
    "    )\n",
    "\n",
    "cdprog = spark.read.csv('./DataAnalysisPythonPySpark/data/data/broadcast_logs/ReferenceTables/CD_ProgramClass.csv',\n",
    "    sep=\"|\", header=True, inferSchema=True\n",
    ").select(\n",
    "    \"ProgramClassID\", \"ProgramClassCD\",\n",
    "    F.col(\"EnglishDescription\").alias('ProgramClass_Desciption')\n",
    ")"
   ]
  },
  {
   "cell_type": "code",
   "execution_count": 10,
   "metadata": {},
   "outputs": [
    {
     "name": "stdout",
     "output_type": "stream",
     "text": [
      "CD Category: \n",
      " ['CategoryID', 'CategoryCD', 'Category_Description']\n",
      "+----------+----------+---------------------------+\n",
      "|CategoryID|CategoryCD|Category_Description       |\n",
      "+----------+----------+---------------------------+\n",
      "|1         |010       |NEWS                       |\n",
      "|2         |02        |CANREC  ANALYSIS (old)     |\n",
      "|3         |02A       |ANALYSIS AND INTERPRETATION|\n",
      "|4         |02B       |LONG-FORM DOCUMENTARY      |\n",
      "|5         |030       |REPORTING & ACTUALITIES    |\n",
      "+----------+----------+---------------------------+\n",
      "only showing top 5 rows\n",
      "\n",
      "CD programm: \n",
      " ['ProgramClassID', 'ProgramClassCD', 'ProgramClass_Desciption']\n",
      "+--------------+--------------+-----------------------+\n",
      "|ProgramClassID|ProgramClassCD|ProgramClass_Desciption|\n",
      "+--------------+--------------+-----------------------+\n",
      "|1             |AUT           |AUTOPROMOTION          |\n",
      "|2             |BAL           |BALANCE PROGRAMMING    |\n",
      "|3             |COM           |COMMERCIAL MESSAGE     |\n",
      "|4             |COR           |CORNERSTONE            |\n",
      "|5             |DOC           |DOCUMENTARY            |\n",
      "+--------------+--------------+-----------------------+\n",
      "only showing top 5 rows\n",
      "\n"
     ]
    }
   ],
   "source": [
    "print(\"CD Category: \\n\", cdcat.columns)\n",
    "cdcat.select('*').show(5, False)\n",
    "print(\"CD programm: \\n\",cdprog.columns)\n",
    "cdprog.select('*').show(5, False)"
   ]
  },
  {
   "cell_type": "code",
   "execution_count": 12,
   "metadata": {},
   "outputs": [
    {
     "name": "stdout",
     "output_type": "stream",
     "text": [
      "+--------------+-------------------------------------+------+\n",
      "|ProgramClassCD|ProgramClass_Desciption              |ID sum|\n",
      "+--------------+-------------------------------------+------+\n",
      "|MOS           |Mosaic                               |30    |\n",
      "|SPO           |SPONSORSHIP MESSAGE                  |29    |\n",
      "|SOL           |SOLICITATION MESSAGE                 |28    |\n",
      "|SO            |MAY IDENTIFY THE SIGN ON\\OFF OF A DAY|27    |\n",
      "|SEG           |SEGMENT OF A PROGRAM                 |26    |\n",
      "+--------------+-------------------------------------+------+\n",
      "only showing top 5 rows\n",
      "\n"
     ]
    }
   ],
   "source": [
    "(cdcat.join(cdprog,on=cdcat['CategoryID']==cdprog['ProgramClassID'], how='inner').select(\n",
    "        F.col('CategoryID').alias('ID'),\n",
    "        F.col('ProgramClassID'),\n",
    "        F.col('CategoryCD'),\n",
    "        F.col('Category_Description'),\n",
    "        F.col('ProgramClassCD'),\n",
    "        F.col('ProgramClass_Desciption'),\n",
    "\n",
    "    ) \n",
    "    .groupBy(\"ProgramClassCD\", \"ProgramClass_Desciption\")\n",
    "    .agg(F.sum('ID').alias('ID sum'))\n",
    "    .orderBy('ID sum', ascending=False)\n",
    "    .show(5,truncate=False)\n",
    ")"
   ]
  },
  {
   "cell_type": "code",
   "execution_count": 34,
   "metadata": {},
   "outputs": [
    {
     "ename": "AttributeError",
     "evalue": "'NoneType' object has no attribute 'columns'",
     "output_type": "error",
     "traceback": [
      "\u001b[1;31m---------------------------------------------------------------------------\u001b[0m",
      "\u001b[1;31mAttributeError\u001b[0m                            Traceback (most recent call last)",
      "Cell \u001b[1;32mIn [34], line 1\u001b[0m\n\u001b[1;32m----> 1\u001b[0m \u001b[43mfull_log\u001b[49m\u001b[38;5;241;43m.\u001b[39;49m\u001b[43mcolumns\u001b[49m\n",
      "\u001b[1;31mAttributeError\u001b[0m: 'NoneType' object has no attribute 'columns'"
     ]
    }
   ],
   "source": [
    "full_log.columns"
   ]
  },
  {
   "cell_type": "code",
   "execution_count": 37,
   "metadata": {},
   "outputs": [
    {
     "ename": "AnalysisException",
     "evalue": "Column 'ProgramClassCD' does not exist. Did you mean one of the following? [PrimaryFG, LogServiceID, Language1, LogIdentifierID, Subtitle, dur_seconds];\n'Aggregate [LogIdentifierID#17], [LogIdentifierID#17, sum(CASE WHEN trim('ProgramClassCD, None) IN (COM,PRC,PGI,PRO,LOC,SPO,MER,SOL) THEN dur_seconds#617 ELSE 0 END) AS duration_commercial#1927, sum(dur_seconds#617) AS duration_total#1929L]\n+- Project [LogServiceID#527, Subtitle#547, Language1#554, LogIdentifierID#17, PrimaryFG#19, dur_seconds#617]\n   +- Project [LogServiceID#527, LogDate#528, AudienceTargetAgeID#530, AudienceTargetEthnicID#531, CategoryID#532, ClosedCaptionID#533, CountryOfOriginID#534, DubDramaCreditID#535, EthnicProgramID#536, ProductionSourceID#537, ProgramClassID#538, FilmClassificationID#539, ExhibitionID#540, Duration#541, EndTime#542, LogEntryDate#543, ProductionNO#544, ProgramTitle#545, StartTime#546, Subtitle#547, NetworkAffiliationID#548, SpecialAttentionID#549, BroadcastOriginPointID#550, CompositionID#551, ... 9 more fields]\n      +- Join Inner, (LogServiceID#527 = LogServiceID#18)\n         :- Deduplicate [NetworkAffiliationID#548, SpecialAttentionID#549, ProgramClassID#538, Producer2#553, Duration#541, ClosedCaptionID#533, CategoryID#532, EthnicProgramID#536, ProductionNO#544, CompositionID#551, Subtitle#547, LogEntryDate#543, StartTime#546, EndTime#542, LogDate#528, ExhibitionID#540, AudienceTargetEthnicID#531, Language1#554, dur_minutes#616, ProductionSourceID#537, CountryOfOriginID#534, dur_hours#615, ProgramTitle#545, BroadcastOriginPointID#550, ... 7 more fields]\n         :  +- Project [LogServiceID#527, LogDate#528, AudienceTargetAgeID#530, AudienceTargetEthnicID#531, CategoryID#532, ClosedCaptionID#533, CountryOfOriginID#534, DubDramaCreditID#535, EthnicProgramID#536, ProductionSourceID#537, ProgramClassID#538, FilmClassificationID#539, ExhibitionID#540, Duration#541, EndTime#542, LogEntryDate#543, ProductionNO#544, ProgramTitle#545, StartTime#546, Subtitle#547, NetworkAffiliationID#548, SpecialAttentionID#549, BroadcastOriginPointID#550, CompositionID#551, ... 7 more fields]\n         :     +- Project [LogServiceID#527, LogDate#528, AudienceTargetAgeID#530, AudienceTargetEthnicID#531, CategoryID#532, ClosedCaptionID#533, CountryOfOriginID#534, DubDramaCreditID#535, EthnicProgramID#536, ProductionSourceID#537, ProgramClassID#538, FilmClassificationID#539, ExhibitionID#540, Duration#541, EndTime#542, LogEntryDate#543, ProductionNO#544, ProgramTitle#545, StartTime#546, Subtitle#547, NetworkAffiliationID#548, SpecialAttentionID#549, BroadcastOriginPointID#550, CompositionID#551, ... 4 more fields]\n         :        +- Relation [BroadcastLogID#526,LogServiceID#527,LogDate#528,SequenceNO#529,AudienceTargetAgeID#530,AudienceTargetEthnicID#531,CategoryID#532,ClosedCaptionID#533,CountryOfOriginID#534,DubDramaCreditID#535,EthnicProgramID#536,ProductionSourceID#537,ProgramClassID#538,FilmClassificationID#539,ExhibitionID#540,Duration#541,EndTime#542,LogEntryDate#543,ProductionNO#544,ProgramTitle#545,StartTime#546,Subtitle#547,NetworkAffiliationID#548,SpecialAttentionID#549,... 6 more fields] csv\n         +- Filter (PrimaryFG#19 = 1)\n            +- Relation [LogIdentifierID#17,LogServiceID#18,PrimaryFG#19] csv\n",
     "output_type": "error",
     "traceback": [
      "\u001b[1;31m---------------------------------------------------------------------------\u001b[0m",
      "\u001b[1;31mAnalysisException\u001b[0m                         Traceback (most recent call last)",
      "Cell \u001b[1;32mIn [37], line 3\u001b[0m\n\u001b[0;32m      1\u001b[0m answer \u001b[38;5;241m=\u001b[39m (\n\u001b[0;32m      2\u001b[0m     \u001b[43mfull_log\u001b[49m\u001b[38;5;241;43m.\u001b[39;49m\u001b[43mgroupby\u001b[49m\u001b[43m(\u001b[49m\u001b[38;5;124;43m'\u001b[39;49m\u001b[38;5;124;43mLogIdentifierID\u001b[39;49m\u001b[38;5;124;43m'\u001b[39;49m\u001b[43m)\u001b[49m\n\u001b[1;32m----> 3\u001b[0m \u001b[43m    \u001b[49m\u001b[38;5;241;43m.\u001b[39;49m\u001b[43magg\u001b[49m\u001b[43m(\u001b[49m\n\u001b[0;32m      4\u001b[0m \u001b[43m        \u001b[49m\u001b[43mF\u001b[49m\u001b[38;5;241;43m.\u001b[39;49m\u001b[43msum\u001b[49m\u001b[43m(\u001b[49m\n\u001b[0;32m      5\u001b[0m \u001b[43m            \u001b[49m\u001b[43mF\u001b[49m\u001b[38;5;241;43m.\u001b[39;49m\u001b[43mwhen\u001b[49m\u001b[43m(\u001b[49m\n\u001b[0;32m      6\u001b[0m \u001b[43m                \u001b[49m\u001b[43mF\u001b[49m\u001b[38;5;241;43m.\u001b[39;49m\u001b[43mtrim\u001b[49m\u001b[43m(\u001b[49m\u001b[43mF\u001b[49m\u001b[38;5;241;43m.\u001b[39;49m\u001b[43mcol\u001b[49m\u001b[43m(\u001b[49m\u001b[38;5;124;43m'\u001b[39;49m\u001b[38;5;124;43mProgramClassCD\u001b[39;49m\u001b[38;5;124;43m'\u001b[39;49m\u001b[43m)\u001b[49m\u001b[43m)\u001b[49m\u001b[38;5;241;43m.\u001b[39;49m\u001b[43misin\u001b[49m\u001b[43m(\u001b[49m\n\u001b[0;32m      7\u001b[0m \u001b[43m                    \u001b[49m\u001b[43m[\u001b[49m\u001b[38;5;124;43m'\u001b[39;49m\u001b[38;5;124;43mCOM\u001b[39;49m\u001b[38;5;124;43m'\u001b[39;49m\u001b[43m,\u001b[49m\u001b[43m \u001b[49m\u001b[38;5;124;43m\"\u001b[39;49m\u001b[38;5;124;43mPRC\u001b[39;49m\u001b[38;5;124;43m\"\u001b[39;49m\u001b[43m,\u001b[49m\u001b[43m \u001b[49m\u001b[38;5;124;43m\"\u001b[39;49m\u001b[38;5;124;43mPGI\u001b[39;49m\u001b[38;5;124;43m\"\u001b[39;49m\u001b[43m,\u001b[49m\u001b[43m \u001b[49m\u001b[38;5;124;43m\"\u001b[39;49m\u001b[38;5;124;43mPRO\u001b[39;49m\u001b[38;5;124;43m\"\u001b[39;49m\u001b[43m,\u001b[49m\u001b[43m \u001b[49m\u001b[38;5;124;43m\"\u001b[39;49m\u001b[38;5;124;43mLOC\u001b[39;49m\u001b[38;5;124;43m\"\u001b[39;49m\u001b[43m,\u001b[49m\u001b[43m \u001b[49m\u001b[38;5;124;43m\"\u001b[39;49m\u001b[38;5;124;43mSPO\u001b[39;49m\u001b[38;5;124;43m\"\u001b[39;49m\u001b[43m,\u001b[49m\u001b[43m \u001b[49m\u001b[38;5;124;43m\"\u001b[39;49m\u001b[38;5;124;43mMER\u001b[39;49m\u001b[38;5;124;43m\"\u001b[39;49m\u001b[43m,\u001b[49m\u001b[43m \u001b[49m\u001b[38;5;124;43m\"\u001b[39;49m\u001b[38;5;124;43mSOL\u001b[39;49m\u001b[38;5;124;43m\"\u001b[39;49m\u001b[43m]\u001b[49m\n\u001b[0;32m      8\u001b[0m \u001b[43m                \u001b[49m\u001b[43m)\u001b[49m\u001b[43m,\u001b[49m\n\u001b[0;32m      9\u001b[0m \u001b[43m                \u001b[49m\u001b[43mF\u001b[49m\u001b[38;5;241;43m.\u001b[39;49m\u001b[43mcol\u001b[49m\u001b[43m(\u001b[49m\u001b[38;5;124;43m'\u001b[39;49m\u001b[38;5;124;43mdur_seconds\u001b[39;49m\u001b[38;5;124;43m'\u001b[39;49m\u001b[43m)\u001b[49m\n\u001b[0;32m     10\u001b[0m \u001b[43m            \u001b[49m\u001b[43m)\u001b[49m\u001b[38;5;241;43m.\u001b[39;49m\u001b[43motherwise\u001b[49m\u001b[43m(\u001b[49m\u001b[38;5;241;43m0\u001b[39;49m\u001b[43m)\u001b[49m\n\u001b[0;32m     11\u001b[0m \u001b[43m        \u001b[49m\u001b[43m)\u001b[49m\u001b[38;5;241;43m.\u001b[39;49m\u001b[43malias\u001b[49m\u001b[43m(\u001b[49m\u001b[38;5;124;43m'\u001b[39;49m\u001b[38;5;124;43mduration_commercial\u001b[39;49m\u001b[38;5;124;43m'\u001b[39;49m\u001b[43m)\u001b[49m\u001b[43m,\u001b[49m\n\u001b[0;32m     12\u001b[0m \u001b[43m        \u001b[49m\u001b[43mF\u001b[49m\u001b[38;5;241;43m.\u001b[39;49m\u001b[43msum\u001b[49m\u001b[43m(\u001b[49m\u001b[38;5;124;43m'\u001b[39;49m\u001b[38;5;124;43mdur_seconds\u001b[39;49m\u001b[38;5;124;43m'\u001b[39;49m\u001b[43m)\u001b[49m\u001b[38;5;241;43m.\u001b[39;49m\u001b[43malias\u001b[49m\u001b[43m(\u001b[49m\u001b[38;5;124;43m'\u001b[39;49m\u001b[38;5;124;43mduration_total\u001b[39;49m\u001b[38;5;124;43m'\u001b[39;49m\u001b[43m)\u001b[49m\u001b[43m,\u001b[49m\n\u001b[0;32m     13\u001b[0m \u001b[43m    \u001b[49m\u001b[43m)\u001b[49m\n\u001b[0;32m     14\u001b[0m     \u001b[38;5;241m.\u001b[39mwithColumn(\u001b[38;5;124m'\u001b[39m\u001b[38;5;124mcommercial_ratio\u001b[39m\u001b[38;5;124m'\u001b[39m, F\u001b[38;5;241m.\u001b[39mcol(\u001b[38;5;124m'\u001b[39m\u001b[38;5;124mduration_commercial\u001b[39m\u001b[38;5;124m'\u001b[39m)\u001b[38;5;241m/\u001b[39mF\u001b[38;5;241m.\u001b[39mcol(\u001b[38;5;124m'\u001b[39m\u001b[38;5;124mduration_total\u001b[39m\u001b[38;5;124m'\u001b[39m))\n\u001b[0;32m     15\u001b[0m )\n\u001b[0;32m     17\u001b[0m answer\u001b[38;5;241m.\u001b[39morderBy(\u001b[38;5;124m'\u001b[39m\u001b[38;5;124mcommercial_ratio\u001b[39m\u001b[38;5;124m'\u001b[39m, ascending\u001b[38;5;241m=\u001b[39m\u001b[38;5;28;01mFalse\u001b[39;00m)\u001b[38;5;241m.\u001b[39mshow(\u001b[38;5;241m5\u001b[39m,)\n",
      "File \u001b[1;32mc:\\Users\\enpamuk\\Desktop\\files\\py_notebook\\notenv\\lib\\site-packages\\pyspark\\sql\\group.py:137\u001b[0m, in \u001b[0;36mGroupedData.agg\u001b[1;34m(self, *exprs)\u001b[0m\n\u001b[0;32m    135\u001b[0m     \u001b[39massert\u001b[39;00m \u001b[39mall\u001b[39m(\u001b[39misinstance\u001b[39m(c, Column) \u001b[39mfor\u001b[39;00m c \u001b[39min\u001b[39;00m exprs), \u001b[39m\"\u001b[39m\u001b[39mall exprs should be Column\u001b[39m\u001b[39m\"\u001b[39m\n\u001b[0;32m    136\u001b[0m     exprs \u001b[39m=\u001b[39m cast(Tuple[Column, \u001b[39m.\u001b[39m\u001b[39m.\u001b[39m\u001b[39m.\u001b[39m], exprs)\n\u001b[1;32m--> 137\u001b[0m     jdf \u001b[39m=\u001b[39m \u001b[39mself\u001b[39;49m\u001b[39m.\u001b[39;49m_jgd\u001b[39m.\u001b[39;49magg(exprs[\u001b[39m0\u001b[39;49m]\u001b[39m.\u001b[39;49m_jc, _to_seq(\u001b[39mself\u001b[39;49m\u001b[39m.\u001b[39;49msession\u001b[39m.\u001b[39;49m_sc, [c\u001b[39m.\u001b[39;49m_jc \u001b[39mfor\u001b[39;49;00m c \u001b[39min\u001b[39;49;00m exprs[\u001b[39m1\u001b[39;49m:]]))\n\u001b[0;32m    138\u001b[0m \u001b[39mreturn\u001b[39;00m DataFrame(jdf, \u001b[39mself\u001b[39m\u001b[39m.\u001b[39msession)\n",
      "File \u001b[1;32mc:\\Users\\enpamuk\\Desktop\\files\\py_notebook\\notenv\\lib\\site-packages\\py4j\\java_gateway.py:1321\u001b[0m, in \u001b[0;36mJavaMember.__call__\u001b[1;34m(self, *args)\u001b[0m\n\u001b[0;32m   1315\u001b[0m command \u001b[39m=\u001b[39m proto\u001b[39m.\u001b[39mCALL_COMMAND_NAME \u001b[39m+\u001b[39m\\\n\u001b[0;32m   1316\u001b[0m     \u001b[39mself\u001b[39m\u001b[39m.\u001b[39mcommand_header \u001b[39m+\u001b[39m\\\n\u001b[0;32m   1317\u001b[0m     args_command \u001b[39m+\u001b[39m\\\n\u001b[0;32m   1318\u001b[0m     proto\u001b[39m.\u001b[39mEND_COMMAND_PART\n\u001b[0;32m   1320\u001b[0m answer \u001b[39m=\u001b[39m \u001b[39mself\u001b[39m\u001b[39m.\u001b[39mgateway_client\u001b[39m.\u001b[39msend_command(command)\n\u001b[1;32m-> 1321\u001b[0m return_value \u001b[39m=\u001b[39m get_return_value(\n\u001b[0;32m   1322\u001b[0m     answer, \u001b[39mself\u001b[39;49m\u001b[39m.\u001b[39;49mgateway_client, \u001b[39mself\u001b[39;49m\u001b[39m.\u001b[39;49mtarget_id, \u001b[39mself\u001b[39;49m\u001b[39m.\u001b[39;49mname)\n\u001b[0;32m   1324\u001b[0m \u001b[39mfor\u001b[39;00m temp_arg \u001b[39min\u001b[39;00m temp_args:\n\u001b[0;32m   1325\u001b[0m     temp_arg\u001b[39m.\u001b[39m_detach()\n",
      "File \u001b[1;32mc:\\Users\\enpamuk\\Desktop\\files\\py_notebook\\notenv\\lib\\site-packages\\pyspark\\sql\\utils.py:196\u001b[0m, in \u001b[0;36mcapture_sql_exception.<locals>.deco\u001b[1;34m(*a, **kw)\u001b[0m\n\u001b[0;32m    192\u001b[0m converted \u001b[39m=\u001b[39m convert_exception(e\u001b[39m.\u001b[39mjava_exception)\n\u001b[0;32m    193\u001b[0m \u001b[39mif\u001b[39;00m \u001b[39mnot\u001b[39;00m \u001b[39misinstance\u001b[39m(converted, UnknownException):\n\u001b[0;32m    194\u001b[0m     \u001b[39m# Hide where the exception came from that shows a non-Pythonic\u001b[39;00m\n\u001b[0;32m    195\u001b[0m     \u001b[39m# JVM exception message.\u001b[39;00m\n\u001b[1;32m--> 196\u001b[0m     \u001b[39mraise\u001b[39;00m converted \u001b[39mfrom\u001b[39;00m \u001b[39mNone\u001b[39m\n\u001b[0;32m    197\u001b[0m \u001b[39melse\u001b[39;00m:\n\u001b[0;32m    198\u001b[0m     \u001b[39mraise\u001b[39;00m\n",
      "\u001b[1;31mAnalysisException\u001b[0m: Column 'ProgramClassCD' does not exist. Did you mean one of the following? [PrimaryFG, LogServiceID, Language1, LogIdentifierID, Subtitle, dur_seconds];\n'Aggregate [LogIdentifierID#17], [LogIdentifierID#17, sum(CASE WHEN trim('ProgramClassCD, None) IN (COM,PRC,PGI,PRO,LOC,SPO,MER,SOL) THEN dur_seconds#617 ELSE 0 END) AS duration_commercial#1927, sum(dur_seconds#617) AS duration_total#1929L]\n+- Project [LogServiceID#527, Subtitle#547, Language1#554, LogIdentifierID#17, PrimaryFG#19, dur_seconds#617]\n   +- Project [LogServiceID#527, LogDate#528, AudienceTargetAgeID#530, AudienceTargetEthnicID#531, CategoryID#532, ClosedCaptionID#533, CountryOfOriginID#534, DubDramaCreditID#535, EthnicProgramID#536, ProductionSourceID#537, ProgramClassID#538, FilmClassificationID#539, ExhibitionID#540, Duration#541, EndTime#542, LogEntryDate#543, ProductionNO#544, ProgramTitle#545, StartTime#546, Subtitle#547, NetworkAffiliationID#548, SpecialAttentionID#549, BroadcastOriginPointID#550, CompositionID#551, ... 9 more fields]\n      +- Join Inner, (LogServiceID#527 = LogServiceID#18)\n         :- Deduplicate [NetworkAffiliationID#548, SpecialAttentionID#549, ProgramClassID#538, Producer2#553, Duration#541, ClosedCaptionID#533, CategoryID#532, EthnicProgramID#536, ProductionNO#544, CompositionID#551, Subtitle#547, LogEntryDate#543, StartTime#546, EndTime#542, LogDate#528, ExhibitionID#540, AudienceTargetEthnicID#531, Language1#554, dur_minutes#616, ProductionSourceID#537, CountryOfOriginID#534, dur_hours#615, ProgramTitle#545, BroadcastOriginPointID#550, ... 7 more fields]\n         :  +- Project [LogServiceID#527, LogDate#528, AudienceTargetAgeID#530, AudienceTargetEthnicID#531, CategoryID#532, ClosedCaptionID#533, CountryOfOriginID#534, DubDramaCreditID#535, EthnicProgramID#536, ProductionSourceID#537, ProgramClassID#538, FilmClassificationID#539, ExhibitionID#540, Duration#541, EndTime#542, LogEntryDate#543, ProductionNO#544, ProgramTitle#545, StartTime#546, Subtitle#547, NetworkAffiliationID#548, SpecialAttentionID#549, BroadcastOriginPointID#550, CompositionID#551, ... 7 more fields]\n         :     +- Project [LogServiceID#527, LogDate#528, AudienceTargetAgeID#530, AudienceTargetEthnicID#531, CategoryID#532, ClosedCaptionID#533, CountryOfOriginID#534, DubDramaCreditID#535, EthnicProgramID#536, ProductionSourceID#537, ProgramClassID#538, FilmClassificationID#539, ExhibitionID#540, Duration#541, EndTime#542, LogEntryDate#543, ProductionNO#544, ProgramTitle#545, StartTime#546, Subtitle#547, NetworkAffiliationID#548, SpecialAttentionID#549, BroadcastOriginPointID#550, CompositionID#551, ... 4 more fields]\n         :        +- Relation [BroadcastLogID#526,LogServiceID#527,LogDate#528,SequenceNO#529,AudienceTargetAgeID#530,AudienceTargetEthnicID#531,CategoryID#532,ClosedCaptionID#533,CountryOfOriginID#534,DubDramaCreditID#535,EthnicProgramID#536,ProductionSourceID#537,ProgramClassID#538,FilmClassificationID#539,ExhibitionID#540,Duration#541,EndTime#542,LogEntryDate#543,ProductionNO#544,ProgramTitle#545,StartTime#546,Subtitle#547,NetworkAffiliationID#548,SpecialAttentionID#549,... 6 more fields] csv\n         +- Filter (PrimaryFG#19 = 1)\n            +- Relation [LogIdentifierID#17,LogServiceID#18,PrimaryFG#19] csv\n"
     ]
    }
   ],
   "source": [
    "answer = (\n",
    "    full_log.groupby('LogIdentifierID')\n",
    "    .agg(\n",
    "        F.sum(\n",
    "            F.when(\n",
    "                F.trim(F.col('ProgramClassCD')).isin(\n",
    "                    ['COM', \"PRC\", \"PGI\", \"PRO\", \"LOC\", \"SPO\", \"MER\", \"SOL\"]\n",
    "                ),\n",
    "                F.col('dur_seconds')\n",
    "            ).otherwise(0)\n",
    "        ).alias('duration_commercial'),\n",
    "        F.sum('dur_seconds').alias('duration_total'),\n",
    "    )\n",
    "    .withColumn('commercial_ratio', F.col('duration_commercial')/F.col('duration_total'))\n",
    ")\n",
    "\n",
    "answer.orderBy('commercial_ratio', ascending=False).show(5,)"
   ]
  }
 ],
 "metadata": {
  "kernelspec": {
   "display_name": "Python 3.10.5 ('notenv': venv)",
   "language": "python",
   "name": "python3"
  },
  "language_info": {
   "codemirror_mode": {
    "name": "ipython",
    "version": 3
   },
   "file_extension": ".py",
   "mimetype": "text/x-python",
   "name": "python",
   "nbconvert_exporter": "python",
   "pygments_lexer": "ipython3",
   "version": "3.10.5"
  },
  "orig_nbformat": 4,
  "vscode": {
   "interpreter": {
    "hash": "a8bcc056d8b2b2589e91084a5f0304ed47f2b28a6538f385d456b5fb40a355c1"
   }
  }
 },
 "nbformat": 4,
 "nbformat_minor": 2
}
