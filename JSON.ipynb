{
 "cells": [
  {
   "cell_type": "markdown",
   "metadata": {},
   "source": [
    "#### Reading Json using spark"
   ]
  },
  {
   "cell_type": "code",
   "execution_count": 1,
   "metadata": {},
   "outputs": [],
   "source": [
    "from pyspark.sql import SparkSession\n",
    "import pyspark.sql.functions as F"
   ]
  },
  {
   "cell_type": "code",
   "execution_count": 2,
   "metadata": {},
   "outputs": [],
   "source": [
    "import pandas as pd\n",
    "import numpy as np"
   ]
  },
  {
   "cell_type": "code",
   "execution_count": 3,
   "metadata": {},
   "outputs": [],
   "source": [
    "spark = SparkSession.builder.appName('JSON Data').getOrCreate()"
   ]
  },
  {
   "cell_type": "code",
   "execution_count": 4,
   "metadata": {},
   "outputs": [],
   "source": [
    "shows1 = spark.read.json('./DataAnalysisPythonPySpark/data/data/shows/shows-breaking-bad.json')\n",
    "shows2 = spark.read.json('./DataAnalysisPythonPySpark/data/data/shows/shows-golden-girls.json')\n",
    "shows3 = spark.read.json('./DataAnalysisPythonPySpark/data/data/shows/shows-silicon-valley.json')\n",
    "# shows = spark.read.json('./DataAnalysisPythonPySpark/data/data/shows/shows-*.json', multiLine=True)"
   ]
  },
  {
   "cell_type": "code",
   "execution_count": 5,
   "metadata": {},
   "outputs": [
    {
     "data": {
      "text/plain": [
       "1"
      ]
     },
     "execution_count": 5,
     "metadata": {},
     "output_type": "execute_result"
    }
   ],
   "source": [
    "shows1.count()\n",
    "shows2.count()\n",
    "shows3.count()"
   ]
  },
  {
   "cell_type": "code",
   "execution_count": 8,
   "metadata": {},
   "outputs": [
    {
     "name": "stdout",
     "output_type": "stream",
     "text": [
      "+------------+------------------------+\n",
      "|name        |genres                  |\n",
      "+------------+------------------------+\n",
      "|Breaking Bad|[Drama, Crime, Thriller]|\n",
      "+------------+------------------------+\n",
      "\n",
      "+----------------+---------------+\n",
      "|name            |genres         |\n",
      "+----------------+---------------+\n",
      "|The Golden Girls|[Drama, Comedy]|\n",
      "+----------------+---------------+\n",
      "\n",
      "+--------------+--------+\n",
      "|name          |genres  |\n",
      "+--------------+--------+\n",
      "|Silicon Valley|[Comedy]|\n",
      "+--------------+--------+\n",
      "\n",
      "Columns:  ['_embedded', '_links', 'externals', 'genres', 'id', 'image', 'language', 'name', 'network', 'officialSite', 'premiered', 'rating', 'runtime', 'schedule', 'status', 'summary', 'type', 'updated', 'url', 'webChannel', 'weight']\n",
      "Columns:  ['_embedded', '_links', 'externals', 'genres', 'id', 'image', 'language', 'name', 'network', 'officialSite', 'premiered', 'rating', 'runtime', 'schedule', 'status', 'summary', 'type', 'updated', 'url', 'webChannel', 'weight']\n",
      "Columns:  ['_embedded', '_links', 'externals', 'genres', 'id', 'image', 'language', 'name', 'network', 'officialSite', 'premiered', 'rating', 'runtime', 'schedule', 'status', 'summary', 'type', 'updated', 'url', 'webChannel', 'weight']\n"
     ]
    }
   ],
   "source": [
    "shows1.select(\"name\", \"genres\").show(1, False)\n",
    "shows2.select(\"name\", \"genres\").show(1, False)\n",
    "shows3.select(\"name\", \"genres\").show(1, False)\n",
    "\n",
    "print(\"Columns: \", shows1.columns)\n",
    "print(\"Columns: \", shows2.columns)\n",
    "print(\"Columns: \", shows3.columns)"
   ]
  },
  {
   "cell_type": "code",
   "execution_count": 25,
   "metadata": {},
   "outputs": [
    {
     "name": "stdout",
     "output_type": "stream",
     "text": [
      "+------------+--------------------+--------------------+--------------------+\n",
      "|        name|              genres|               image|             summary|\n",
      "+------------+--------------------+--------------------+--------------------+\n",
      "|Breaking Bad|[Drama, Crime, Th...|{http://static.tv...|<p><b>Breaking Ba...|\n",
      "+------------+--------------------+--------------------+--------------------+\n",
      "\n"
     ]
    }
   ],
   "source": [
    "shows1.select('name', 'genres', 'image', 'summary').show()"
   ]
  },
  {
   "cell_type": "code",
   "execution_count": 46,
   "metadata": {},
   "outputs": [],
   "source": [
    "from pyspark.sql import DataFrame"
   ]
  },
  {
   "cell_type": "code",
   "execution_count": 65,
   "metadata": {},
   "outputs": [
    {
     "name": "stdout",
     "output_type": "stream",
     "text": [
      "('webChannel', 'string') ('webChannel', 'string')\n"
     ]
    }
   ],
   "source": [
    "# [_[0] == _[1] for _ in zip(shows1.dtypes,shows2.dtypes)]\n",
    "print(shows3.dtypes[19],shows2.dtypes[19])"
   ]
  },
  {
   "cell_type": "code",
   "execution_count": 66,
   "metadata": {},
   "outputs": [
    {
     "name": "stdout",
     "output_type": "stream",
     "text": [
      "shows1 and shows2 joinned\n",
      "shows1 and shows3 joinned\n",
      "show1 and show2 joinned\n"
     ]
    },
    {
     "data": {
      "text/plain": [
       "2"
      ]
     },
     "execution_count": 66,
     "metadata": {},
     "output_type": "execute_result"
    }
   ],
   "source": [
    "shows = shows3.union(shows2)\n",
    "print(\"shows1 and shows2 joinned\")\n",
    "# show2 = shows1.union(shows3)\n",
    "print(\"shows1 and shows3 joinned\")\n",
    "# shows = show1.union(show2)\n",
    "print(\"show1 and show2 joinned\")\n",
    "shows.count()\n",
    "# shows3.printSchema()"
   ]
  },
  {
   "cell_type": "code",
   "execution_count": 71,
   "metadata": {},
   "outputs": [
    {
     "name": "stdout",
     "output_type": "stream",
     "text": [
      "+----------------+---------------+\n",
      "|            name|         genres|\n",
      "+----------------+---------------+\n",
      "|  Silicon Valley|       [Comedy]|\n",
      "|The Golden Girls|[Drama, Comedy]|\n",
      "+----------------+---------------+\n",
      "\n"
     ]
    }
   ],
   "source": [
    "# shows.select('name','genres').show()\n",
    "array_subset = shows.select('name','genres')\n",
    "array_subset.show()"
   ]
  },
  {
   "cell_type": "code",
   "execution_count": 72,
   "metadata": {},
   "outputs": [
    {
     "name": "stdout",
     "output_type": "stream",
     "text": [
      "+----------------+-------------+-------------+--------------+--------------+\n",
      "|            name|dot_and_index|col_and_index|dot_and_method|col_and_method|\n",
      "+----------------+-------------+-------------+--------------+--------------+\n",
      "|  Silicon Valley|       Comedy|       Comedy|        Comedy|        Comedy|\n",
      "|The Golden Girls|        Drama|        Drama|         Drama|         Drama|\n",
      "+----------------+-------------+-------------+--------------+--------------+\n",
      "\n"
     ]
    }
   ],
   "source": [
    "array_subset = array_subset.select(\n",
    "    'name',\n",
    "    array_subset.genres[0].alias('dot_and_index'),\n",
    "    F.col('genres')[0].alias('col_and_index'),\n",
    "    array_subset.genres.getItem(0).alias('dot_and_method'),\n",
    "    F.col('genres').getItem(0).alias('col_and_method')\n",
    ")\n",
    "array_subset.show(5)"
   ]
  },
  {
   "cell_type": "code",
   "execution_count": 80,
   "metadata": {},
   "outputs": [
    {
     "name": "stdout",
     "output_type": "stream",
     "text": [
      "+----------------+-----------------------+----------------------------------------+\n",
      "|name            |Some_Genres            |Repeated_Genres                         |\n",
      "+----------------+-----------------------+----------------------------------------+\n",
      "|Silicon Valley  |[Comedy, Horror, Drama]|[Comedy, Comedy, Comedy, Comedy, Comedy]|\n",
      "|The Golden Girls|[Comedy, Horror, Drama]|[Drama, Drama, Drama, Drama, Drama]     |\n",
      "+----------------+-----------------------+----------------------------------------+\n",
      "\n",
      "+----------------+-----------------+---------------------+\n",
      "|name            |size(Some_Genres)|size(Repeated_Genres)|\n",
      "+----------------+-----------------+---------------------+\n",
      "|Silicon Valley  |3                |5                    |\n",
      "|The Golden Girls|3                |5                    |\n",
      "+----------------+-----------------+---------------------+\n",
      "\n",
      "\n",
      "Distinct array elements.\n",
      "+----------------+---------------------------+-------------------------------+\n",
      "|name            |array_distinct(Some_Genres)|array_distinct(Repeated_Genres)|\n",
      "+----------------+---------------------------+-------------------------------+\n",
      "|Silicon Valley  |[Comedy, Horror, Drama]    |[Comedy]                       |\n",
      "|The Golden Girls|[Comedy, Horror, Drama]    |[Drama]                        |\n",
      "+----------------+---------------------------+-------------------------------+\n",
      "\n"
     ]
    }
   ],
   "source": [
    "# Multiple operation on array column\n",
    "array_subset_repeat = array_subset.select(\n",
    "    'name',\n",
    "    F.lit('Comedy').alias('one'),\n",
    "    F.lit('Horror').alias('two'),\n",
    "    F.lit('Drama').alias('three'),\n",
    "    F.col('dot_and_index'),\n",
    ").select(\n",
    "    'name',\n",
    "    F.array('one', 'two', 'three').alias(\"Some_Genres\"),\n",
    "    F.array_repeat('dot_and_index', 5).alias('Repeated_Genres')\n",
    ")\n",
    "\n",
    "array_subset_repeat.show(truncate=False)\n",
    "array_subset_repeat.select(\n",
    "    'name', F.size('Some_Genres'), F.size('Repeated_Genres')\n",
    ").show(truncate=False)\n",
    "print(\"\\nDistinct array elements.\")\n",
    "array_subset_repeat.select(\n",
    "    'name', F.array_distinct('Some_Genres'),\n",
    "    F.array_distinct('Repeated_Genres')\n",
    ").show(truncate=False)"
   ]
  },
  {
   "cell_type": "code",
   "execution_count": 82,
   "metadata": {},
   "outputs": [
    {
     "name": "stdout",
     "output_type": "stream",
     "text": [
      "+----------------+--------+\n",
      "|            name|  Genres|\n",
      "+----------------+--------+\n",
      "|  Silicon Valley|[Comedy]|\n",
      "|The Golden Girls| [Drama]|\n",
      "+----------------+--------+\n",
      "\n"
     ]
    }
   ],
   "source": [
    "# Intersection of columns elements\n",
    "array_subset_repeat = array_subset_repeat.select(\n",
    "    'name', F.array_intersect('Some_Genres', 'Repeated_Genres').alias('Genres')\n",
    ")\n",
    "array_subset_repeat.show()"
   ]
  }
 ],
 "metadata": {
  "kernelspec": {
   "display_name": "Python 3.10.5 ('notenv': venv)",
   "language": "python",
   "name": "python3"
  },
  "language_info": {
   "codemirror_mode": {
    "name": "ipython",
    "version": 3
   },
   "file_extension": ".py",
   "mimetype": "text/x-python",
   "name": "python",
   "nbconvert_exporter": "python",
   "pygments_lexer": "ipython3",
   "version": "3.10.5"
  },
  "orig_nbformat": 4,
  "vscode": {
   "interpreter": {
    "hash": "a8bcc056d8b2b2589e91084a5f0304ed47f2b28a6538f385d456b5fb40a355c1"
   }
  }
 },
 "nbformat": 4,
 "nbformat_minor": 2
}
