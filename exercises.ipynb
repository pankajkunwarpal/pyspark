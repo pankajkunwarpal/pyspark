{
 "cells": [
  {
   "cell_type": "markdown",
   "metadata": {},
   "source": [
    "#### `Return the number of distinct words`"
   ]
  },
  {
   "cell_type": "code",
   "execution_count": 1,
   "metadata": {},
   "outputs": [],
   "source": [
    "from pyspark.sql import SparkSession\n",
    "import pyspark.sql.functions as F\n"
   ]
  },
  {
   "cell_type": "code",
   "execution_count": 2,
   "metadata": {},
   "outputs": [],
   "source": [
    "spark = SparkSession.builder.appName(\n",
    "    \"Counting word occurences from a book.\"\n",
    ").getOrCreate()\n",
    "\n",
    "spark.sparkContext.setLogLevel(\"WARN\")"
   ]
  },
  {
   "cell_type": "code",
   "execution_count": 22,
   "metadata": {},
   "outputs": [
    {
     "data": {
      "text/plain": [
       "6595"
      ]
     },
     "execution_count": 22,
     "metadata": {},
     "output_type": "execute_result"
    }
   ],
   "source": [
    "# If you need to read multiple text files, replace `1342-0` by `*`.\n",
    "results = (\n",
    "    spark.read.text(\"./DataAnalysisPythonPySpark/data/data/gutenberg_books/1342-0.txt\")\n",
    "    .select(F.split(F.col(\"value\"), \" \").alias(\"line\"))\n",
    "    .select(F.explode(F.col(\"line\")).alias(\"word\"))\n",
    "    .select(F.lower(F.col(\"word\")).alias(\"word\"))\n",
    "    .select(F.regexp_extract(F.col(\"word\"), \"[a-z']*\", 0).alias(\"word\"))\n",
    "    .where(F.col(\"word\") != \"\")\n",
    "    # .groupby(F.col(\"word\"))\n",
    "    .distinct()\n",
    "    .count()\n",
    ")\n",
    "results\n",
    "# results.orderBy(\"count\", ascending=False).show(10)\n",
    "# results.coalesce(1).write.csv(\"./results_single_partition.csv\")"
   ]
  },
  {
   "cell_type": "markdown",
   "metadata": {},
   "source": [
    "##### ```Getting the words that appears only once.```"
   ]
  },
  {
   "cell_type": "code",
   "execution_count": 36,
   "metadata": {},
   "outputs": [
    {
     "name": "stdout",
     "output_type": "stream",
     "text": [
      "+---------+-----+\n",
      "|     word|count|\n",
      "+---------+-----+\n",
      "|   online|    4|\n",
      "|     some|  203|\n",
      "|    still|   72|\n",
      "|      few|   72|\n",
      "|     hope|  122|\n",
      "|    those|   60|\n",
      "| cautious|    4|\n",
      "|   lady's|    8|\n",
      "|imitation|    1|\n",
      "|      art|    3|\n",
      "+---------+-----+\n",
      "only showing top 10 rows\n",
      "\n",
      "None\n",
      "6595\n"
     ]
    }
   ],
   "source": [
    "# If you need to read multiple text files, replace `1342-0` by `*`.\n",
    "results = (\n",
    "    spark.read.text(\"./DataAnalysisPythonPySpark/data/data/gutenberg_books/1342-0.txt\")\n",
    "    .select(F.split(F.col(\"value\"), \" \").alias(\"line\"))\n",
    "    .select(F.explode(F.col(\"line\")).alias(\"word\"))\n",
    "    .select(F.lower(F.col(\"word\")).alias(\"word\"))\n",
    "    .select(F.regexp_extract(F.col(\"word\"), \"[a-z']*\", 0).alias(\"word\"))\n",
    "    .where(F.col(\"word\") != \"\")\n",
    "    .groupby(F.col(\"word\"))\n",
    "    # .distinct()\n",
    "    .count()\n",
    "    # .where(F.col('count') == 1)\n",
    "    # .orderBy('word', ascending=True)\n",
    ")\n",
    "print(results.show(10))\n",
    "print(results.count())\n"
   ]
  },
  {
   "cell_type": "code",
   "execution_count": 40,
   "metadata": {},
   "outputs": [
    {
     "name": "stdout",
     "output_type": "stream",
     "text": [
      "+------------+----------+\n",
      "|first_letter|sum(count)|\n",
      "+------------+----------+\n",
      "|           t|     16101|\n",
      "|           a|     13684|\n",
      "|           h|     10419|\n",
      "|           w|      9091|\n",
      "|           s|      8791|\n",
      "+------------+----------+\n",
      "only showing top 5 rows\n",
      "\n"
     ]
    }
   ],
   "source": [
    "results.withColumn('first_letter', F.substring(F.col('word'), 1, 1)).groupby(F.col('first_letter')).sum() \\\n",
    "    .orderBy('Sum(Count)', ascending=False).show(5)\n"
   ]
  },
  {
   "cell_type": "code",
   "execution_count": 41,
   "metadata": {},
   "outputs": [
    {
     "name": "stdout",
     "output_type": "stream",
     "text": [
      "+------------------+----------+\n",
      "|First_letter_Vowel|sum(count)|\n",
      "+------------------+----------+\n",
      "|              true|     33522|\n",
      "|             false|     88653|\n",
      "+------------------+----------+\n",
      "\n"
     ]
    }
   ],
   "source": [
    "results.withColumn('First_letter_Vowel',\n",
    "F.substring(F.col('word'), 1, 1).isin(['a','e','i','o','u']),) \\\n",
    "    .groupby(F.col(\"First_letter_Vowel\")).sum().show()"
   ]
  },
  {
   "cell_type": "code",
   "execution_count": 48,
   "metadata": {},
   "outputs": [],
   "source": [
    "logs = spark.read.csv('./DataAnalysisPythonPySpark/data/data/broadcast_logs/BroadcastLogs_2018_Q3_M8_sample.csv', sep='|',\n",
    "header=True, inferSchema=True, timestampFormat='yyyy-MM-dd')"
   ]
  },
  {
   "cell_type": "code",
   "execution_count": 65,
   "metadata": {},
   "outputs": [
    {
     "name": "stdout",
     "output_type": "stream",
     "text": [
      "-RECORD 0--------------------------------------\n",
      " BroadcastLogID         | 1196192316           \n",
      " LogServiceID           | 3157                 \n",
      " LogDate                | 2018-08-01 00:00:00  \n",
      " SequenceNO             | 1                    \n",
      " AudienceTargetAgeID    | 4                    \n",
      " AudienceTargetEthnicID | null                 \n",
      " CategoryID             | 13                   \n",
      " ClosedCaptionID        | 3                    \n",
      " CountryOfOriginID      | 3                    \n",
      " DubDramaCreditID       | null                 \n",
      " EthnicProgramID        | null                 \n",
      " ProductionSourceID     | 10                   \n",
      " ProgramClassID         | 19                   \n",
      " FilmClassificationID   | null                 \n",
      " ExhibitionID           | 2                    \n",
      " Duration               | 02:00:00.0000000     \n",
      " EndTime                | 08:00:00.0000000     \n",
      " LogEntryDate           | 2018-08-01 00:00:00  \n",
      " ProductionNO           | A39082               \n",
      " ProgramTitle           | Newlywed and Dead    \n",
      " StartTime              | 06:00:00.0000000     \n",
      " Subtitle               | null                 \n",
      " NetworkAffiliationID   | null                 \n",
      " SpecialAttentionID     | null                 \n",
      " BroadcastOriginPointID | null                 \n",
      " CompositionID          | null                 \n",
      " Producer1              | null                 \n",
      " Producer2              | null                 \n",
      " Language1              | 94                   \n",
      " Language2              | null                 \n",
      "-RECORD 1--------------------------------------\n",
      " BroadcastLogID         | 1196192317           \n",
      " LogServiceID           | 3157                 \n",
      " LogDate                | 2018-08-01 00:00:00  \n",
      " SequenceNO             | 2                    \n",
      " AudienceTargetAgeID    | null                 \n",
      " AudienceTargetEthnicID | null                 \n",
      " CategoryID             | null                 \n",
      " ClosedCaptionID        | 1                    \n",
      " CountryOfOriginID      | null                 \n",
      " DubDramaCreditID       | null                 \n",
      " EthnicProgramID        | null                 \n",
      " ProductionSourceID     | null                 \n",
      " ProgramClassID         | 20                   \n",
      " FilmClassificationID   | null                 \n",
      " ExhibitionID           | null                 \n",
      " Duration               | 00:00:30.0000000     \n",
      " EndTime                | 06:13:45.0000000     \n",
      " LogEntryDate           | 2018-08-01 00:00:00  \n",
      " ProductionNO           | null                 \n",
      " ProgramTitle           | 15-SPECIALTY CHAN... \n",
      " StartTime              | 06:13:15.0000000     \n",
      " Subtitle               | null                 \n",
      " NetworkAffiliationID   | null                 \n",
      " SpecialAttentionID     | null                 \n",
      " BroadcastOriginPointID | null                 \n",
      " CompositionID          | null                 \n",
      " Producer1              | null                 \n",
      " Producer2              | null                 \n",
      " Language1              | null                 \n",
      " Language2              | null                 \n",
      "-RECORD 2--------------------------------------\n",
      " BroadcastLogID         | 1196192318           \n",
      " LogServiceID           | 3157                 \n",
      " LogDate                | 2018-08-01 00:00:00  \n",
      " SequenceNO             | 3                    \n",
      " AudienceTargetAgeID    | null                 \n",
      " AudienceTargetEthnicID | null                 \n",
      " CategoryID             | null                 \n",
      " ClosedCaptionID        | 1                    \n",
      " CountryOfOriginID      | null                 \n",
      " DubDramaCreditID       | null                 \n",
      " EthnicProgramID        | null                 \n",
      " ProductionSourceID     | null                 \n",
      " ProgramClassID         | 3                    \n",
      " FilmClassificationID   | null                 \n",
      " ExhibitionID           | null                 \n",
      " Duration               | 00:00:15.0000000     \n",
      " EndTime                | 06:14:00.0000000     \n",
      " LogEntryDate           | 2018-08-01 00:00:00  \n",
      " ProductionNO           | null                 \n",
      " ProgramTitle           | 3-PROCTER & GAMBL... \n",
      " StartTime              | 06:13:45.0000000     \n",
      " Subtitle               | null                 \n",
      " NetworkAffiliationID   | null                 \n",
      " SpecialAttentionID     | null                 \n",
      " BroadcastOriginPointID | null                 \n",
      " CompositionID          | null                 \n",
      " Producer1              | null                 \n",
      " Producer2              | null                 \n",
      " Language1              | null                 \n",
      " Language2              | null                 \n",
      "-RECORD 3--------------------------------------\n",
      " BroadcastLogID         | 1196192319           \n",
      " LogServiceID           | 3157                 \n",
      " LogDate                | 2018-08-01 00:00:00  \n",
      " SequenceNO             | 4                    \n",
      " AudienceTargetAgeID    | null                 \n",
      " AudienceTargetEthnicID | null                 \n",
      " CategoryID             | null                 \n",
      " ClosedCaptionID        | 1                    \n",
      " CountryOfOriginID      | null                 \n",
      " DubDramaCreditID       | null                 \n",
      " EthnicProgramID        | null                 \n",
      " ProductionSourceID     | null                 \n",
      " ProgramClassID         | 3                    \n",
      " FilmClassificationID   | null                 \n",
      " ExhibitionID           | null                 \n",
      " Duration               | 00:00:15.0000000     \n",
      " EndTime                | 06:14:15.0000000     \n",
      " LogEntryDate           | 2018-08-01 00:00:00  \n",
      " ProductionNO           | null                 \n",
      " ProgramTitle           | 12-CREDIT KARMA-B... \n",
      " StartTime              | 06:14:00.0000000     \n",
      " Subtitle               | null                 \n",
      " NetworkAffiliationID   | null                 \n",
      " SpecialAttentionID     | null                 \n",
      " BroadcastOriginPointID | null                 \n",
      " CompositionID          | null                 \n",
      " Producer1              | null                 \n",
      " Producer2              | null                 \n",
      " Language1              | null                 \n",
      " Language2              | null                 \n",
      "-RECORD 4--------------------------------------\n",
      " BroadcastLogID         | 1196192320           \n",
      " LogServiceID           | 3157                 \n",
      " LogDate                | 2018-08-01 00:00:00  \n",
      " SequenceNO             | 5                    \n",
      " AudienceTargetAgeID    | null                 \n",
      " AudienceTargetEthnicID | null                 \n",
      " CategoryID             | null                 \n",
      " ClosedCaptionID        | 1                    \n",
      " CountryOfOriginID      | null                 \n",
      " DubDramaCreditID       | null                 \n",
      " EthnicProgramID        | null                 \n",
      " ProductionSourceID     | null                 \n",
      " ProgramClassID         | 3                    \n",
      " FilmClassificationID   | null                 \n",
      " ExhibitionID           | null                 \n",
      " Duration               | 00:00:15.0000000     \n",
      " EndTime                | 06:14:30.0000000     \n",
      " LogEntryDate           | 2018-08-01 00:00:00  \n",
      " ProductionNO           | null                 \n",
      " ProgramTitle           | 3-L'OREAL CANADA-... \n",
      " StartTime              | 06:14:15.0000000     \n",
      " Subtitle               | null                 \n",
      " NetworkAffiliationID   | null                 \n",
      " SpecialAttentionID     | null                 \n",
      " BroadcastOriginPointID | null                 \n",
      " CompositionID          | null                 \n",
      " Producer1              | null                 \n",
      " Producer2              | null                 \n",
      " Language1              | null                 \n",
      " Language2              | null                 \n",
      "only showing top 5 rows\n",
      "\n"
     ]
    }
   ],
   "source": [
    "logs.show(5, vertical=True)"
   ]
  },
  {
   "cell_type": "code",
   "execution_count": 61,
   "metadata": {},
   "outputs": [],
   "source": [
    "sample = spark.read.csv('./sample.csv',header=True,inferSchema=True,\n",
    "quote='$')"
   ]
  },
  {
   "cell_type": "code",
   "execution_count": 62,
   "metadata": {},
   "outputs": [
    {
     "name": "stdout",
     "output_type": "stream",
     "text": [
      "root\n",
      " |-- Item: string (nullable = true)\n",
      " |-- Quantity: integer (nullable = true)\n",
      " |-- Price: double (nullable = true)\n",
      "\n",
      "None\n",
      "+---------------+--------+-----+\n",
      "|           Item|Quantity|Price|\n",
      "+---------------+--------+-----+\n",
      "|Banana, organic|       1| 0.99|\n",
      "|           Pear|       7| 1.24|\n",
      "|Cake, chocolate|       1| 14.5|\n",
      "+---------------+--------+-----+\n",
      "\n",
      "None\n"
     ]
    }
   ],
   "source": [
    "print(sample.printSchema())\n",
    "print(sample.show())"
   ]
  },
  {
   "cell_type": "code",
   "execution_count": 64,
   "metadata": {},
   "outputs": [
    {
     "name": "stdout",
     "output_type": "stream",
     "text": [
      "+--------------+------------+-------------------+\n",
      "|BroadcastLogID|LogServiceID|            LogDate|\n",
      "+--------------+------------+-------------------+\n",
      "|    1196192316|        3157|2018-08-01 00:00:00|\n",
      "|    1196192317|        3157|2018-08-01 00:00:00|\n",
      "|    1196192318|        3157|2018-08-01 00:00:00|\n",
      "|    1196192319|        3157|2018-08-01 00:00:00|\n",
      "|    1196192320|        3157|2018-08-01 00:00:00|\n",
      "+--------------+------------+-------------------+\n",
      "only showing top 5 rows\n",
      "\n",
      "None\n"
     ]
    }
   ],
   "source": [
    "print(logs.select('BroadcastLogID', 'LogServiceID', 'LogDate').show(5,False))"
   ]
  }
 ],
 "metadata": {
  "kernelspec": {
   "display_name": "Python 3.10.5 ('notenv': venv)",
   "language": "python",
   "name": "python3"
  },
  "language_info": {
   "codemirror_mode": {
    "name": "ipython",
    "version": 3
   },
   "file_extension": ".py",
   "mimetype": "text/x-python",
   "name": "python",
   "nbconvert_exporter": "python",
   "pygments_lexer": "ipython3",
   "version": "3.10.5"
  },
  "orig_nbformat": 4,
  "vscode": {
   "interpreter": {
    "hash": "a8bcc056d8b2b2589e91084a5f0304ed47f2b28a6538f385d456b5fb40a355c1"
   }
  }
 },
 "nbformat": 4,
 "nbformat_minor": 2
}
