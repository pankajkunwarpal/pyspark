{
 "cells": [
  {
   "cell_type": "code",
   "execution_count": 1,
   "metadata": {},
   "outputs": [],
   "source": [
    "import pyspark as ps"
   ]
  },
  {
   "cell_type": "code",
   "execution_count": 21,
   "metadata": {},
   "outputs": [],
   "source": [
    "!notenv\\\\Scripts\\\\activate"
   ]
  },
  {
   "cell_type": "code",
   "execution_count": 1,
   "metadata": {},
   "outputs": [
    {
     "data": {
      "text/html": [
       "\n",
       "            <div>\n",
       "                <p><b>SparkSession - in-memory</b></p>\n",
       "                \n",
       "        <div>\n",
       "            <p><b>SparkContext</b></p>\n",
       "\n",
       "            <p><a href=\"http://E-5CG2157GWS:4040\">Spark UI</a></p>\n",
       "\n",
       "            <dl>\n",
       "              <dt>Version</dt>\n",
       "                <dd><code>v3.3.0</code></dd>\n",
       "              <dt>Master</dt>\n",
       "                <dd><code>local[*]</code></dd>\n",
       "              <dt>AppName</dt>\n",
       "                <dd><code>Practice</code></dd>\n",
       "            </dl>\n",
       "        </div>\n",
       "        \n",
       "            </div>\n",
       "        "
      ],
      "text/plain": [
       "<pyspark.sql.session.SparkSession at 0x2d8521b3d00>"
      ]
     },
     "execution_count": 1,
     "metadata": {},
     "output_type": "execute_result"
    }
   ],
   "source": [
    "from pyspark.sql import SparkSession\n",
    "spark=SparkSession.builder.appName('Practice').getOrCreate()\n",
    "spark"
   ]
  },
  {
   "cell_type": "code",
   "execution_count": 2,
   "metadata": {},
   "outputs": [
    {
     "name": "stdout",
     "output_type": "stream",
     "text": [
      "root\n",
      " |-- BroadcastLogID: integer (nullable = true)\n",
      " |-- LogServiceID: integer (nullable = true)\n",
      " |-- LogDate: string (nullable = true)\n",
      " |-- SequenceNO: integer (nullable = true)\n",
      " |-- AudienceTargetAgeID: integer (nullable = true)\n",
      " |-- AudienceTargetEthnicID: integer (nullable = true)\n",
      " |-- CategoryID: integer (nullable = true)\n",
      " |-- ClosedCaptionID: integer (nullable = true)\n",
      " |-- CountryOfOriginID: integer (nullable = true)\n",
      " |-- DubDramaCreditID: integer (nullable = true)\n",
      " |-- EthnicProgramID: integer (nullable = true)\n",
      " |-- ProductionSourceID: integer (nullable = true)\n",
      " |-- ProgramClassID: integer (nullable = true)\n",
      " |-- FilmClassificationID: integer (nullable = true)\n",
      " |-- ExhibitionID: integer (nullable = true)\n",
      " |-- Duration: string (nullable = true)\n",
      " |-- EndTime: string (nullable = true)\n",
      " |-- LogEntryDate: string (nullable = true)\n",
      " |-- ProductionNO: string (nullable = true)\n",
      " |-- ProgramTitle: string (nullable = true)\n",
      " |-- StartTime: string (nullable = true)\n",
      " |-- Subtitle: string (nullable = true)\n",
      " |-- NetworkAffiliationID: integer (nullable = true)\n",
      " |-- SpecialAttentionID: integer (nullable = true)\n",
      " |-- BroadcastOriginPointID: integer (nullable = true)\n",
      " |-- CompositionID: integer (nullable = true)\n",
      " |-- Producer1: string (nullable = true)\n",
      " |-- Producer2: string (nullable = true)\n",
      " |-- Language1: integer (nullable = true)\n",
      " |-- Language2: integer (nullable = true)\n",
      "\n",
      "None\n",
      "+--------------------+--------+\n",
      "|        ProgramTitle|Subtitle|\n",
      "+--------------------+--------+\n",
      "|   Newlywed and Dead|    null|\n",
      "|15-SPECIALTY CHAN...|    null|\n",
      "|3-PROCTER & GAMBL...|    null|\n",
      "|12-CREDIT KARMA-B...|    null|\n",
      "|3-L'OREAL CANADA-...|    null|\n",
      "|11-YUM! BRANDS-Ch...|    null|\n",
      "|2-PIER 1 IMPORTS ...|    null|\n",
      "|3-HAVAS EDGE-Trav...|    null|\n",
      "|2-AUTOTRADER-Inte...|    null|\n",
      "|11-SLEEP COUNTRY ...|    null|\n",
      "|11-GENERAL MILLS ...|    null|\n",
      "|11-PROCTER & GAMB...|    null|\n",
      "|15-SPECIALTY CHAN...|    null|\n",
      "|11-PROCTER & GAMB...|    null|\n",
      "|11-LABATT BREWERI...|    null|\n",
      "|2-IKEA CANADA LTD...|    null|\n",
      "|11-WAL-MART CANAD...|    null|\n",
      "|2-AUTOTRADER-Inte...|    null|\n",
      "|12-COMWAVE TELECO...|    null|\n",
      "|11-L'OREAL CANADA...|    null|\n",
      "+--------------------+--------+\n",
      "only showing top 20 rows\n",
      "\n"
     ]
    }
   ],
   "source": [
    "df=spark.read.option('header', 'true').csv('C:\\\\Users\\\\enpamuk\\\\Desktop\\\\files\\\\py_notebook\\\\DataAnalysisPythonPySpark\\\\data\\\\data\\\\broadcast_logs\\\\BroadcastLogs_2018_Q3_M8_sample_1.csv', inferSchema=True)\n",
    "# print(df.head(5))\n",
    "print(df.printSchema())\n",
    "# df.columns\n",
    "# df.show()\n",
    "df.select(['ProgramTitle', 'Subtitle']).show()"
   ]
  },
  {
   "cell_type": "code",
   "execution_count": null,
   "metadata": {},
   "outputs": [],
   "source": [
    "print(df.show())"
   ]
  },
  {
   "cell_type": "markdown",
   "metadata": {},
   "source": [
    "###       `   Use of Chaning method with PySpark`"
   ]
  },
  {
   "cell_type": "code",
   "execution_count": 2,
   "metadata": {},
   "outputs": [],
   "source": [
    "import pyspark.sql.functions as F"
   ]
  },
  {
   "cell_type": "code",
   "execution_count": 3,
   "metadata": {},
   "outputs": [],
   "source": [
    "# spark app/session is build on above line.\n",
    "\n",
    "result = (\n",
    "    spark.read.text(\"./DataAnalysisPythonPySpark/data/data/gutenberg_books/1342-0.txt\")\n",
    "    .select(F.split(F.col('value'), \" \").alias(\"line\"))\n",
    "    .select(F.explode(F.col('line')).alias('word'))\n",
    "    .select(F.lower(F.col('word')).alias('word'))\n",
    "    .select(F.regexp_extract(F.col('word'), \"[a-z']*\", 0).alias('word'))\n",
    "    .where(F.col('word') != \"\")\n",
    "    .groupby(F.col('word'))\n",
    "    .count()\n",
    ")"
   ]
  },
  {
   "cell_type": "code",
   "execution_count": 4,
   "metadata": {},
   "outputs": [
    {
     "name": "stdout",
     "output_type": "stream",
     "text": [
      "+----+-----+\n",
      "|word|count|\n",
      "+----+-----+\n",
      "| the| 4480|\n",
      "|  to| 4218|\n",
      "|  of| 3711|\n",
      "| and| 3504|\n",
      "| her| 2199|\n",
      "|   a| 1982|\n",
      "|  in| 1909|\n",
      "| was| 1838|\n",
      "|   i| 1749|\n",
      "| she| 1668|\n",
      "+----+-----+\n",
      "only showing top 10 rows\n",
      "\n",
      "Result:\n",
      " None\n"
     ]
    }
   ],
   "source": [
    "print(\"Result:\\n\", result.orderBy(\"count\", ascending=False).show(10))"
   ]
  },
  {
   "cell_type": "code",
   "execution_count": null,
   "metadata": {},
   "outputs": [],
   "source": []
  }
 ],
 "metadata": {
  "kernelspec": {
   "display_name": "Python 3.10.5 ('notenv': venv)",
   "language": "python",
   "name": "python3"
  },
  "language_info": {
   "codemirror_mode": {
    "name": "ipython",
    "version": 3
   },
   "file_extension": ".py",
   "mimetype": "text/x-python",
   "name": "python",
   "nbconvert_exporter": "python",
   "pygments_lexer": "ipython3",
   "version": "3.10.5"
  },
  "orig_nbformat": 4,
  "vscode": {
   "interpreter": {
    "hash": "a8bcc056d8b2b2589e91084a5f0304ed47f2b28a6538f385d456b5fb40a355c1"
   }
  }
 },
 "nbformat": 4,
 "nbformat_minor": 2
}
