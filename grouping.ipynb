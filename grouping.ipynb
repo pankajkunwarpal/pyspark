{
 "cells": [
  {
   "cell_type": "markdown",
   "metadata": {},
   "source": [
    "### DataFrame Joining and Grouping"
   ]
  },
  {
   "cell_type": "code",
   "execution_count": 1,
   "metadata": {},
   "outputs": [],
   "source": [
    "from pyspark.sql import SparkSession\n",
    "import pyspark.sql.functions as F"
   ]
  },
  {
   "cell_type": "code",
   "execution_count": 2,
   "metadata": {},
   "outputs": [],
   "source": [
    "import pandas as pd\n",
    "import numpy as np"
   ]
  },
  {
   "cell_type": "code",
   "execution_count": 3,
   "metadata": {},
   "outputs": [],
   "source": [
    "spark = SparkSession.builder.appName('Joining and Grouping').getOrCreate()"
   ]
  },
  {
   "cell_type": "code",
   "execution_count": 22,
   "metadata": {},
   "outputs": [],
   "source": [
    "logs = (\n",
    "    spark.read.csv('./DataAnalysisPythonPySpark/data/data/broadcast_logs/ReferenceTables/LogIdentifier.csv',\n",
    "    sep=\"|\", header=True, inferSchema=True)\n",
    "    .where(F.col(\"PrimaryFG\")==1)    \n",
    ")"
   ]
  },
  {
   "cell_type": "code",
   "execution_count": 23,
   "metadata": {},
   "outputs": [
    {
     "name": "stdout",
     "output_type": "stream",
     "text": [
      "root\n",
      " |-- LogIdentifierID: string (nullable = true)\n",
      " |-- LogServiceID: integer (nullable = true)\n",
      " |-- PrimaryFG: integer (nullable = true)\n",
      "\n",
      "Number of Records:  758\n"
     ]
    }
   ],
   "source": [
    "# printing schema of logs DF\n",
    "logs.printSchema()\n",
    "\n",
    "# Count the records where \n",
    "# primaryFG is 1\n",
    "print(\"Number of Records: \", logs.count())"
   ]
  },
  {
   "cell_type": "code",
   "execution_count": 15,
   "metadata": {},
   "outputs": [
    {
     "name": "stdout",
     "output_type": "stream",
     "text": [
      "+------------+\n",
      "|LogServiceID|\n",
      "+------------+\n",
      "|        3157|\n",
      "|        3157|\n",
      "|        3157|\n",
      "|        3157|\n",
      "|        3157|\n",
      "+------------+\n",
      "only showing top 5 rows\n",
      "\n"
     ]
    }
   ],
   "source": [
    "csvlogs = (\n",
    "    spark.read.csv('./DataAnalysisPythonPySpark/data/data/broadcast_logs/BroadcastLogs_2018_Q3_M8_sample.csv', sep='|',\n",
    "    header=True, inferSchema=True, timestampFormat='yyyy-MM-dd')\n",
    ")\n",
    "\n",
    "csvlogs.select(F.col('LogServiceID')).show(5)"
   ]
  },
  {
   "cell_type": "code",
   "execution_count": 41,
   "metadata": {},
   "outputs": [
    {
     "name": "stdout",
     "output_type": "stream",
     "text": [
      "+------------+--------------------+---------+---------------+---------+\n",
      "|LogServiceID|            Subtitle|Language1|LogIdentifierID|PrimaryFG|\n",
      "+------------+--------------------+---------+---------------+---------+\n",
      "|        3157|          I Do, I Do|       94|           13ST|        1|\n",
      "|        3157| Much Ado About Mara|       94|           13ST|        1|\n",
      "|        3157|          I Do, I Do|       94|           13ST|        1|\n",
      "|        3157| Much Ado About Mara|       94|           13ST|        1|\n",
      "|        3157|Fly Into a Rage, ...|       94|           13ST|        1|\n",
      "+------------+--------------------+---------+---------------+---------+\n",
      "only showing top 5 rows\n",
      "\n"
     ]
    }
   ],
   "source": [
    "# use of join method.\n",
    "csvlogs.join(\n",
    "    logs,\n",
    "    on='LogServiceID',\n",
    "    how='inner'\n",
    ").select(F.col('LogServiceID')\n",
    "    ,F.col('Subtitle')\n",
    "    ,F.col('Language1')\n",
    "    ,F.col('LogIdentifierID')\n",
    "    ,F.col('PrimaryFG')\n",
    ").where(F.col('Subtitle') != 'null').show(5)"
   ]
  },
  {
   "cell_type": "markdown",
   "metadata": {},
   "source": [
    "#### Join cases\n",
    "- inner join\n",
    "- left_outer\n",
    "- right_outer\n",
    "- outer\n",
    "- full\n",
    "- full_outer\n",
    "- left_semi\n",
    "- left_anti\n",
    "- cross"
   ]
  }
 ],
 "metadata": {
  "kernelspec": {
   "display_name": "Python 3.10.5 ('notenv': venv)",
   "language": "python",
   "name": "python3"
  },
  "language_info": {
   "codemirror_mode": {
    "name": "ipython",
    "version": 3
   },
   "file_extension": ".py",
   "mimetype": "text/x-python",
   "name": "python",
   "nbconvert_exporter": "python",
   "pygments_lexer": "ipython3",
   "version": "3.10.5"
  },
  "orig_nbformat": 4,
  "vscode": {
   "interpreter": {
    "hash": "a8bcc056d8b2b2589e91084a5f0304ed47f2b28a6538f385d456b5fb40a355c1"
   }
  }
 },
 "nbformat": 4,
 "nbformat_minor": 2
}
