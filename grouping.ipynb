{
 "cells": [
  {
   "cell_type": "markdown",
   "metadata": {},
   "source": [
    "### DataFrame Joining and Grouping"
   ]
  },
  {
   "cell_type": "code",
   "execution_count": 3,
   "metadata": {},
   "outputs": [],
   "source": [
    "from pyspark.sql import SparkSession\n",
    "import pyspark.sql.functions as F"
   ]
  },
  {
   "cell_type": "code",
   "execution_count": 5,
   "metadata": {},
   "outputs": [],
   "source": [
    "import pandas as pd\n",
    "import numpy as np"
   ]
  },
  {
   "cell_type": "code",
   "execution_count": 6,
   "metadata": {},
   "outputs": [],
   "source": [
    "spark = SparkSession.builder.appName('Joining and Grouping').getOrCreate()"
   ]
  },
  {
   "cell_type": "code",
   "execution_count": 22,
   "metadata": {},
   "outputs": [],
   "source": [
    "logs = (\n",
    "    spark.read.csv('./DataAnalysisPythonPySpark/data/data/broadcast_logs/ReferenceTables/LogIdentifier.csv',\n",
    "    sep=\"|\", header=True, inferSchema=True)\n",
    "    .where(F.col(\"PrimaryFG\")==1)    \n",
    ")"
   ]
  },
  {
   "cell_type": "code",
   "execution_count": 23,
   "metadata": {},
   "outputs": [
    {
     "name": "stdout",
     "output_type": "stream",
     "text": [
      "root\n",
      " |-- LogIdentifierID: string (nullable = true)\n",
      " |-- LogServiceID: integer (nullable = true)\n",
      " |-- PrimaryFG: integer (nullable = true)\n",
      "\n",
      "Number of Records:  758\n"
     ]
    }
   ],
   "source": [
    "# printing schema of logs DF\n",
    "logs.printSchema()\n",
    "\n",
    "# Count the records where \n",
    "# primaryFG is 1\n",
    "print(\"Number of Records: \", logs.count())"
   ]
  },
  {
   "cell_type": "code",
   "execution_count": 15,
   "metadata": {},
   "outputs": [
    {
     "name": "stdout",
     "output_type": "stream",
     "text": [
      "+------------+\n",
      "|LogServiceID|\n",
      "+------------+\n",
      "|        3157|\n",
      "|        3157|\n",
      "|        3157|\n",
      "|        3157|\n",
      "|        3157|\n",
      "+------------+\n",
      "only showing top 5 rows\n",
      "\n"
     ]
    }
   ],
   "source": [
    "csvlogs = (\n",
    "    spark.read.csv('./DataAnalysisPythonPySpark/data/data/broadcast_logs/BroadcastLogs_2018_Q3_M8_sample.csv', sep='|',\n",
    "    header=True, inferSchema=True, timestampFormat='yyyy-MM-dd')\n",
    ")\n",
    "\n",
    "csvlogs.select(F.col('LogServiceID')).show(5)"
   ]
  },
  {
   "cell_type": "code",
   "execution_count": 41,
   "metadata": {},
   "outputs": [
    {
     "name": "stdout",
     "output_type": "stream",
     "text": [
      "+------------+--------------------+---------+---------------+---------+\n",
      "|LogServiceID|            Subtitle|Language1|LogIdentifierID|PrimaryFG|\n",
      "+------------+--------------------+---------+---------------+---------+\n",
      "|        3157|          I Do, I Do|       94|           13ST|        1|\n",
      "|        3157| Much Ado About Mara|       94|           13ST|        1|\n",
      "|        3157|          I Do, I Do|       94|           13ST|        1|\n",
      "|        3157| Much Ado About Mara|       94|           13ST|        1|\n",
      "|        3157|Fly Into a Rage, ...|       94|           13ST|        1|\n",
      "+------------+--------------------+---------+---------------+---------+\n",
      "only showing top 5 rows\n",
      "\n"
     ]
    }
   ],
   "source": [
    "# use of join method.\n",
    "csvlogs.join(\n",
    "    logs,\n",
    "    on='LogServiceID',\n",
    "    how='inner'\n",
    ").select(F.col('LogServiceID')\n",
    "    ,F.col('Subtitle')\n",
    "    ,F.col('Language1')\n",
    "    ,F.col('LogIdentifierID')\n",
    "    ,F.col('PrimaryFG')\n",
    ").where(F.col('Subtitle') != 'null').show(5)"
   ]
  },
  {
   "cell_type": "markdown",
   "metadata": {},
   "source": [
    "#### Join cases\n",
    "- inner join\n",
    "- left_outer\n",
    "- right_outer\n",
    "- outer\n",
    "- full\n",
    "- full_outer\n",
    "- left_semi\n",
    "- left_anti\n",
    "- cross"
   ]
  },
  {
   "cell_type": "code",
   "execution_count": 7,
   "metadata": {},
   "outputs": [],
   "source": [
    "cdcat = spark.read.csv('./DataAnalysisPythonPySpark/data/data/broadcast_logs/ReferenceTables/CD_Category.csv',\n",
    "    sep='|', header=True, inferSchema=True\n",
    "    ).select(\n",
    "        \"CategoryID\", \"CategoryCD\", \n",
    "        F.col('EnglishDescription').alias('Category_Description')\n",
    "    )\n",
    "\n",
    "cdprog = spark.read.csv('./DataAnalysisPythonPySpark/data/data/broadcast_logs/ReferenceTables/CD_ProgramClass.csv',\n",
    "    sep=\"|\", header=True, inferSchema=True\n",
    ").select(\n",
    "    \"ProgramClassID\", \"ProgramClassCD\",\n",
    "    F.col(\"EnglishDescription\").alias('ProgramClass_Desciption')\n",
    ")"
   ]
  },
  {
   "cell_type": "code",
   "execution_count": 13,
   "metadata": {},
   "outputs": [
    {
     "name": "stdout",
     "output_type": "stream",
     "text": [
      "CD Category: \n",
      " ['CategoryID', 'CategoryCD', 'Category_Description']\n",
      "+----------+----------+---------------------------+\n",
      "|CategoryID|CategoryCD|Category_Description       |\n",
      "+----------+----------+---------------------------+\n",
      "|1         |010       |NEWS                       |\n",
      "|2         |02        |CANREC  ANALYSIS (old)     |\n",
      "|3         |02A       |ANALYSIS AND INTERPRETATION|\n",
      "|4         |02B       |LONG-FORM DOCUMENTARY      |\n",
      "|5         |030       |REPORTING & ACTUALITIES    |\n",
      "+----------+----------+---------------------------+\n",
      "only showing top 5 rows\n",
      "\n",
      "CD programm: \n",
      " ['ProgramClassID', 'ProgramClassCD', 'ProgramClass_Desciption']\n",
      "+--------------+--------------+-----------------------+\n",
      "|ProgramClassID|ProgramClassCD|ProgramClass_Desciption|\n",
      "+--------------+--------------+-----------------------+\n",
      "|1             |AUT           |AUTOPROMOTION          |\n",
      "|2             |BAL           |BALANCE PROGRAMMING    |\n",
      "|3             |COM           |COMMERCIAL MESSAGE     |\n",
      "|4             |COR           |CORNERSTONE            |\n",
      "|5             |DOC           |DOCUMENTARY            |\n",
      "+--------------+--------------+-----------------------+\n",
      "only showing top 5 rows\n",
      "\n"
     ]
    }
   ],
   "source": [
    "print(\"CD Category: \\n\", cdcat.columns)\n",
    "cdcat.select('*').show(5, False)\n",
    "print(\"CD programm: \\n\",cdprog.columns)\n",
    "cdprog.select('*').show(5, False)"
   ]
  },
  {
   "cell_type": "code",
   "execution_count": 38,
   "metadata": {},
   "outputs": [
    {
     "name": "stdout",
     "output_type": "stream",
     "text": [
      "+--------------+----------------------------------------+------+\n",
      "|ProgramClassCD|ProgramClass_Desciption                 |ID sum|\n",
      "+--------------+----------------------------------------+------+\n",
      "|MOS           |Mosaic                                  |30    |\n",
      "|SPO           |SPONSORSHIP MESSAGE                     |29    |\n",
      "|SOL           |SOLICITATION MESSAGE                    |28    |\n",
      "|SO            |MAY IDENTIFY THE SIGN ON\\OFF OF A DAY   |27    |\n",
      "|SEG           |SEGMENT OF A PROGRAM                    |26    |\n",
      "|REG           |REGIONAL                                |25    |\n",
      "|REF           |REFERENDUM                              |24    |\n",
      "|PSA           |PUBLIC SERVICE ANNOUNCEMENT             |23    |\n",
      "|PRP           |PROMOTION DURING DESIGNATED PREVIEW TIME|22    |\n",
      "|PRO           |PROMOTION OF NON-CANADIAN PROGRAM       |21    |\n",
      "|PRC           |PROMOTION OF UPCOMING CANADIAN PROGRAM  |20    |\n",
      "|PGR           |PROGRAM                                 |19    |\n",
      "|PGI           |PROGRAM INFOMERCIAL                     |18    |\n",
      "|PFS           |PROGRAM FIRST SEGMENT                   |17    |\n",
      "|PCR           |PRODUCTION CREDIT                       |16    |\n",
      "|OFT           |OFF AIR DUE TO TECHNICAL DIFFICULTY     |15    |\n",
      "|OFF           |SCHEDULED OFF AIR TIME PERIOD           |14    |\n",
      "|NRN           |No recognized nationality               |13    |\n",
      "|MVC           |MUSIC VIDEO CLIP                        |12    |\n",
      "|MER           |MERCHANDISING                           |11    |\n",
      "+--------------+----------------------------------------+------+\n",
      "only showing top 20 rows\n",
      "\n"
     ]
    }
   ],
   "source": [
    "(cdcat.join(cdprog,on=cdcat['CategoryID']==cdprog['ProgramClassID'], how='inner').select(\n",
    "        F.col('CategoryID').alias('ID'),\n",
    "        F.col('ProgramClassID'),\n",
    "        F.col('CategoryCD'),\n",
    "        F.col('Category_Description'),\n",
    "        F.col('ProgramClassCD'),\n",
    "        F.col('ProgramClass_Desciption'),\n",
    "\n",
    "    ) \n",
    "    .groupBy(\"ProgramClassCD\", \"ProgramClass_Desciption\")\n",
    "    .agg(F.sum('ID').alias('ID sum'))\n",
    "    .orderBy('ID sum', ascending=False)\n",
    "    .show(truncate=False)\n",
    ")"
   ]
  }
 ],
 "metadata": {
  "kernelspec": {
   "display_name": "Python 3.10.5 ('notenv': venv)",
   "language": "python",
   "name": "python3"
  },
  "language_info": {
   "codemirror_mode": {
    "name": "ipython",
    "version": 3
   },
   "file_extension": ".py",
   "mimetype": "text/x-python",
   "name": "python",
   "nbconvert_exporter": "python",
   "pygments_lexer": "ipython3",
   "version": "3.10.5"
  },
  "orig_nbformat": 4,
  "vscode": {
   "interpreter": {
    "hash": "a8bcc056d8b2b2589e91084a5f0304ed47f2b28a6538f385d456b5fb40a355c1"
   }
  }
 },
 "nbformat": 4,
 "nbformat_minor": 2
}
